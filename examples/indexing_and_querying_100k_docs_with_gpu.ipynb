{
  "cells": [
    {
      "cell_type": "code",
      "source": [
        "! pip install -q sentence_transformers splade-index"
      ],
      "metadata": {
        "id": "CaCpdiO5hOGw"
      },
      "execution_count": 1,
      "outputs": []
    },
    {
      "cell_type": "markdown",
      "metadata": {
        "id": "wfHBcNar1cTR"
      },
      "source": [
        "### **Load Dataset**"
      ]
    },
    {
      "cell_type": "code",
      "execution_count": null,
      "metadata": {
        "id": "8D6tdfqK1e64"
      },
      "outputs": [],
      "source": [
        "from datasets import load_dataset\n",
        "\n",
        "dataset = load_dataset(\"sentence-transformers/natural-questions\", split=\"train\")\n",
        "dataset"
      ]
    },
    {
      "cell_type": "code",
      "source": [
        "import hashlib\n",
        "\n",
        "# Using md5 hash function to deduplicate documents\n",
        "def md5(text):\n",
        "  res = hashlib.md5(text.encode())\n",
        "  return res.hexdigest()\n",
        "\n",
        "documents = {md5(document): document for document in dataset['answer']}\n",
        "queries = {md5(query): query for query in dataset['query']}\n",
        "relevant_docs = {md5(query): [md5(document)] for query, document in zip(dataset['query'], dataset['answer'])}\n",
        "\n",
        "len(queries), len(documents), len(relevant_docs)"
      ],
      "metadata": {
        "colab": {
          "base_uri": "https://localhost:8080/"
        },
        "id": "BgXpH6u-XgLH",
        "outputId": "7f0409f1-f37c-47ec-c290-3fad2d0c0a1a"
      },
      "execution_count": 3,
      "outputs": [
        {
          "output_type": "execute_result",
          "data": {
            "text/plain": [
              "(100231, 75215, 100231)"
            ]
          },
          "metadata": {},
          "execution_count": 3
        }
      ]
    },
    {
      "cell_type": "markdown",
      "metadata": {
        "id": "Qjn5c441AM72"
      },
      "source": [
        "### **Index the Documents**"
      ]
    },
    {
      "cell_type": "code",
      "execution_count": null,
      "metadata": {
        "id": "4gQ4OaZZ1q53"
      },
      "outputs": [],
      "source": [
        "from sentence_transformers import SparseEncoder\n",
        "\n",
        "# Download a SPLADE model from the 🤗 Hub\n",
        "splade = SparseEncoder(\"naver/splade-v3-distilbert\", device=\"cuda\")\n",
        "splade"
      ]
    },
    {
      "cell_type": "code",
      "execution_count": 5,
      "metadata": {
        "colab": {
          "base_uri": "https://localhost:8080/"
        },
        "id": "bsESKM17A2It",
        "outputId": "2e9859cb-aedc-4159-82d8-c30fc9fe8546"
      },
      "outputs": [
        {
          "output_type": "execute_result",
          "data": {
            "text/plain": [
              "75215"
            ]
          },
          "metadata": {},
          "execution_count": 5
        }
      ],
      "source": [
        "import numpy as np\n",
        "\n",
        "# The documents\n",
        "corpus = list(documents.values())\n",
        "len(corpus)"
      ]
    },
    {
      "cell_type": "code",
      "execution_count": 6,
      "metadata": {
        "colab": {
          "base_uri": "https://localhost:8080/",
          "height": 34
        },
        "id": "oBe5ivP6AW2D",
        "outputId": "53210775-6eb4-4e42-a37e-f8ac5d001a93"
      },
      "outputs": [
        {
          "output_type": "stream",
          "name": "stderr",
          "text": [
            "Batches: 100%|██████████| 2351/2351 [09:38<00:00,  4.07it/s]\n"
          ]
        }
      ],
      "source": [
        "from splade_index import SPLADE\n",
        "\n",
        "# Create the SPLADE retriever and index the corpus\n",
        "retriever = SPLADE()\n",
        "retriever.index(model=splade, documents=corpus)"
      ]
    },
    {
      "cell_type": "markdown",
      "source": [
        "### **Save Index Locally**"
      ],
      "metadata": {
        "id": "BZ3Gnnf1CyS6"
      }
    },
    {
      "cell_type": "code",
      "source": [
        "# save index locally\n",
        "retriever.save(\"natural-questions-75k\")"
      ],
      "metadata": {
        "id": "Ej8HM1Iv_qFv"
      },
      "execution_count": 7,
      "outputs": []
    },
    {
      "cell_type": "markdown",
      "source": [
        "### **Load the Index**"
      ],
      "metadata": {
        "id": "VpBhVQuRh15K"
      }
    },
    {
      "cell_type": "code",
      "source": [
        "from sentence_transformers import SparseEncoder\n",
        "\n",
        "# Download a SPLADE model from the 🤗 Hub\n",
        "splade = SparseEncoder(\"naver/splade-v3-distilbert\", device=\"cuda\")\n",
        "splade"
      ],
      "metadata": {
        "colab": {
          "base_uri": "https://localhost:8080/"
        },
        "id": "tAKxqTtLal2r",
        "outputId": "bba428a3-c4fb-4179-b997-e918142ad6c5"
      },
      "execution_count": 8,
      "outputs": [
        {
          "output_type": "execute_result",
          "data": {
            "text/plain": [
              "SparseEncoder(\n",
              "  (0): MLMTransformer({'max_seq_length': 512, 'do_lower_case': False, 'architecture': 'DistilBertForMaskedLM'})\n",
              "  (1): SpladePooling({'pooling_strategy': 'max', 'activation_function': 'relu', 'word_embedding_dimension': None})\n",
              ")"
            ]
          },
          "metadata": {},
          "execution_count": 8
        }
      ]
    },
    {
      "cell_type": "code",
      "source": [
        "# you can set `mmap` to True for low memory usage\n",
        "reloaded_retriever = SPLADE.load(save_dir=\"natural-questions-75k\", model=splade, mmap=True)"
      ],
      "metadata": {
        "id": "MNJ0WmoKaY-E"
      },
      "execution_count": 9,
      "outputs": []
    },
    {
      "cell_type": "code",
      "source": [
        "# The documents\n",
        "query_list = list(queries.values())[:10]\n",
        "len(query_list), query_list[:3]"
      ],
      "metadata": {
        "colab": {
          "base_uri": "https://localhost:8080/"
        },
        "id": "0c5lzxDhs3X0",
        "outputId": "b8d8a245-ce62-4656-a6ce-4a2c25b1b398"
      },
      "execution_count": 11,
      "outputs": [
        {
          "output_type": "execute_result",
          "data": {
            "text/plain": [
              "(10,\n",
              " ['when did richmond last play in a preliminary final',\n",
              "  \"who sang what in the world's come over you\",\n",
              "  'who produces the most wool in the world'])"
            ]
          },
          "metadata": {},
          "execution_count": 11
        }
      ]
    },
    {
      "cell_type": "code",
      "source": [
        "# Get top-k results as a tuple of (doc ids, documents, scores). All three are arrays of shape (n_queries, k).\n",
        "results = reloaded_retriever.retrieve(query_list, k=5)\n",
        "doc_ids, result_docs, scores = results.doc_ids, results.documents, results.scores\n",
        "\n",
        "for i in range(doc_ids.shape[1]):\n",
        "    doc_id, doc, score = doc_ids[0, i], result_docs[0, i], scores[0, i]\n",
        "    print(f\"Rank {i+1} (score: {score:.2f}) (doc_id: {doc_id}): {doc}\")"
      ],
      "metadata": {
        "colab": {
          "base_uri": "https://localhost:8080/",
          "height": 141,
          "referenced_widgets": [
            "b32a6d93976d44ff94099308d4e36e87",
            "362807d932054b4eb37c55dbae9e4aa8",
            "c29dfcc494c8446ca6b8d2df75ef394a",
            "2d3f8da3bf1a46a19bfd93e5d8f0c62b",
            "96124c0cd16c4146a37db002bbdd01f8",
            "bcb3e86e6d324074b2a764e1ad46da33",
            "a7e33fd7e13c4fe19995275d4d7dba67",
            "54e2ff3b81214947b83800083028f86b",
            "21e8503a5c164d36b14854f9d393c44c",
            "fcf1ea109e554ab3906b15e6d3c532d3",
            "64e325275b824cbc809dd1181c58d048"
          ]
        },
        "id": "Hm5xAv5qtrJA",
        "outputId": "6b426cad-d8d6-4be0-ac69-ad1cf27113b6"
      },
      "execution_count": 15,
      "outputs": [
        {
          "output_type": "stream",
          "name": "stderr",
          "text": [
            "Batches: 100%|██████████| 1/1 [00:00<00:00, 57.06it/s]\n"
          ]
        },
        {
          "output_type": "display_data",
          "data": {
            "text/plain": [
              "SPLADE Index Retrieve:   0%|          | 0/10 [00:00<?, ?it/s]"
            ],
            "application/vnd.jupyter.widget-view+json": {
              "version_major": 2,
              "version_minor": 0,
              "model_id": "b32a6d93976d44ff94099308d4e36e87"
            }
          },
          "metadata": {}
        },
        {
          "output_type": "stream",
          "name": "stdout",
          "text": [
            "Rank 1 (score: 23.77) (doc_id: 11233): Richmond Football Club Richmond began 2017 with 5 straight wins, a feat it had not achieved since 1995. A series of close losses hampered the Tigers throughout the middle of the season, including a 5-point loss to the Western Bulldogs, 2-point loss to Fremantle, and a 3-point loss to the Giants. Richmond ended the season strongly with convincing victories over Fremantle and St Kilda in the final two rounds, elevating the club to 3rd on the ladder. Richmond's first final of the season – their qualifying final against the Cats at the MCG attracted a record qualifying final crowd of 95,028; the Tigers won by 51 points. In their first preliminary final since 2001, Richmond defeated Greater Western Sydney by 36 points in front of a crowd of 94,258 to progress to the Grand Final against Adelaide, their first Grand Final appearance since 1982. The attendance was 100,021, the largest crowd for a Grand Final since 1986. The Crows led at quarter time and led by as many as 13, but the Tigers took over the game as it progressed and kicked seven straight goals at one point. They eventually would win by 48 points – 16.12 (108) to Adelaide's 8.12 (60) – to end their 37-year flag drought.[23] Dustin Martin also became the first player to win a Premiership medal, the Brownlow Medal and the Norm Smith Medal in the same season, while Damien Hardwick was named AFL Coaches Association Coach of the Year. Richmond's jump from 13th to premiers also marked the biggest jump from one AFL season to the next.\n",
            "Rank 2 (score: 23.16) (doc_id: 0): Richmond Football Club Richmond began 2017 with 5 straight wins, a feat it had not achieved since 1995. A series of close losses hampered the Tigers throughout the middle of the season, including a 5-point loss to the Western Bulldogs, 2-point loss to Fremantle, and a 3-point loss to the Giants. Richmond ended the season strongly with convincing victories over Fremantle and St Kilda in the final two rounds, elevating the club to 3rd on the ladder. Richmond's first final of the season against the Cats at the MCG attracted a record qualifying final crowd of 95,028; the Tigers won by 51 points. Having advanced to the first preliminary finals for the first time since 2001, Richmond defeated Greater Western Sydney by 36 points in front of a crowd of 94,258 to progress to the Grand Final against Adelaide, their first Grand Final appearance since 1982. The attendance was 100,021, the largest crowd to a grand final since 1986. The Crows led at quarter time and led by as many as 13, but the Tigers took over the game as it progressed and scored seven straight goals at one point. They eventually would win by 48 points – 16.12 (108) to Adelaide's 8.12 (60) – to end their 37-year flag drought.[22] Dustin Martin also became the first player to win a Premiership medal, the Brownlow Medal and the Norm Smith Medal in the same season, while Damien Hardwick was named AFL Coaches Association Coach of the Year. Richmond's jump from 13th to premiers also marked the biggest jump from one AFL season to the next.\n",
            "Rank 3 (score: 21.34) (doc_id: 66392): Richmond Football Club Since the Tigers' grand final appearance in 1982, the club has appeared in six finals series (1995, 2001, 2013, 2014, 2015, 2017). Board and coaching instability during the 1980s and 1990s distracted the club and forced its focus away from becoming an on-field force.\n",
            "Rank 4 (score: 19.96) (doc_id: 30132): Rivalries in the Australian Football League Arising from the fact that the two areas neighbour each other, Richmond and Collingwood were both highly successful in the late 1920s to the early 1930s; the clubs played against each other in five grand finals between 1919 and 1929 (Collingwood won in 1919, 1927, 1928 and 1929, while Richmond won in 1920). In the 1980 Grand Final, Richmond handed Collingwood an 81-point defeat, a record at the time.\n",
            "Rank 5 (score: 19.21) (doc_id: 65618): Richmond Football Club The Richmond Football Club, nicknamed the Tigers, is a professional Australian rules football club playing in the Australian Football League (AFL), the sport's premier competition. Between its inception in Richmond, Melbourne in 1885 and 1907, the club competed in the Victorian Football Association (VFA), winning two premierships. Richmond joined the Victorian Football League (now known as the AFL) in 1908 and has since won eleven premierships, most recently in 2017.\n"
          ]
        }
      ]
    },
    {
      "cell_type": "markdown",
      "source": [
        "### **Save Index to HuggingFace Hub**"
      ],
      "metadata": {
        "id": "lcTEV_0OtWak"
      }
    },
    {
      "cell_type": "code",
      "source": [
        "from google.colab import userdata\n",
        "\n",
        "username = \"yosefw\" # your huggingface username\n",
        "repo_id = f\"{username}/splade-index-natural-questions-75k\"\n",
        "retriever.save_to_hub(repo_id, private=True, token=userdata.get(\"HF_WRITE_TOKEN\")) # `token` should be set to your huggingface token"
      ],
      "metadata": {
        "id": "U1k2Zyo7taLN"
      },
      "execution_count": null,
      "outputs": []
    },
    {
      "cell_type": "markdown",
      "source": [
        "### **Load Index from Hub**"
      ],
      "metadata": {
        "id": "Vy6kocCLz4JH"
      }
    },
    {
      "cell_type": "code",
      "source": [
        "from sentence_transformers import SparseEncoder\n",
        "\n",
        "# Download a SPLADE model from the 🤗 Hub\n",
        "splade = SparseEncoder(\"naver/splade-v3-distilbert\", device=\"cuda\")\n",
        "splade"
      ],
      "metadata": {
        "id": "BpkhutH10F47",
        "colab": {
          "base_uri": "https://localhost:8080/"
        },
        "outputId": "5caa3cf3-516b-4a14-c471-9f059d41342d"
      },
      "execution_count": 17,
      "outputs": [
        {
          "output_type": "execute_result",
          "data": {
            "text/plain": [
              "SparseEncoder(\n",
              "  (0): MLMTransformer({'max_seq_length': 512, 'do_lower_case': False, 'architecture': 'DistilBertForMaskedLM'})\n",
              "  (1): SpladePooling({'pooling_strategy': 'max', 'activation_function': 'relu', 'word_embedding_dimension': None})\n",
              ")"
            ]
          },
          "metadata": {},
          "execution_count": 17
        }
      ]
    },
    {
      "cell_type": "code",
      "source": [
        "from splade_index import SPLADE\n",
        "from google.colab import userdata\n",
        "\n",
        "repo_id = \"yosefw/splade-index-natural-questions-75k\"\n",
        "loaded_retriever = SPLADE.load_from_hub(repo_id, model=splade, mmap=True, token=userdata.get(\"HF_WRITE_TOKEN\"))"
      ],
      "metadata": {
        "id": "oB4O-wEXuxvu"
      },
      "execution_count": null,
      "outputs": []
    },
    {
      "cell_type": "code",
      "source": [
        "queries = ['is natural gas renewable']\n",
        "\n",
        "# Get top-k results as a tuple of (doc ids, documents, scores). All three are arrays of shape (n_queries, k).\n",
        "results = loaded_retriever.retrieve(queries, k=5)\n",
        "doc_ids, result_docs, scores = results.doc_ids, results.documents, results.scores\n",
        "\n",
        "for i in range(doc_ids.shape[1]):\n",
        "    doc_id, doc, score = doc_ids[0, i], result_docs[0, i], scores[0, i]\n",
        "    print(f\"Rank {i+1} (score: {score:.2f}) (doc_id: {doc_id}): {doc}\")"
      ],
      "metadata": {
        "colab": {
          "base_uri": "https://localhost:8080/",
          "height": 141,
          "referenced_widgets": [
            "7c673bb0fe5a4dd49ac0c26860b289b9",
            "926add8c0b8641899ca8c6c06e4880e3",
            "72abffa0bb324406a36918a6e9148d23",
            "28f155149fdc4006b062ac041c7ed6aa",
            "d84d6ebc424748c4a864129a25458474",
            "4e8c52749fad43fa9188f2ce173e641f",
            "6a0651b8b29f47289a4550a48acecc20",
            "aed137dc580a47b1b95e6ae277abebd7",
            "87cffa68810b48449d1110b564fed916",
            "9ca6beb4c93a4ec59b13ed5d35d0540a",
            "97b7ed6da4d94ea4b20c89db23591cff"
          ]
        },
        "id": "R84BdYCP0H_q",
        "outputId": "511f8879-6c5b-49ff-8842-e3fc2d23498a"
      },
      "execution_count": 19,
      "outputs": [
        {
          "output_type": "stream",
          "name": "stderr",
          "text": [
            "Batches: 100%|██████████| 1/1 [00:00<00:00,  7.50it/s]\n"
          ]
        },
        {
          "output_type": "display_data",
          "data": {
            "text/plain": [
              "SPLADE Index Retrieve:   0%|          | 0/1 [00:00<?, ?it/s]"
            ],
            "application/vnd.jupyter.widget-view+json": {
              "version_major": 2,
              "version_minor": 0,
              "model_id": "7c673bb0fe5a4dd49ac0c26860b289b9"
            }
          },
          "metadata": {}
        },
        {
          "output_type": "stream",
          "name": "stdout",
          "text": [
            "Rank 1 (score: 21.91) (doc_id: 12107): Natural gas Natural gas is a fossil fuel used as a source of energy for heating, cooking, and electricity generation. It is also used as a fuel for vehicles and as a chemical feedstock in the manufacture of plastics and other commercially important organic chemicals. Fossil fuel based natural gas is a non-renewable resource.[3]\n",
            "Rank 2 (score: 17.32) (doc_id: 74390): Natural gas Natural gas is found in deep underground rock formations or associated with other hydrocarbon reservoirs in coal beds and as methane clathrates. Petroleum is another resource and fossil fuel found in close proximity to and with natural gas. Most natural gas was created over time by two mechanisms: biogenic and thermogenic. Biogenic gas is created by methanogenic organisms in marshes, bogs, landfills, and shallow sediments. Deeper in the earth, at greater temperature and pressure, thermogenic gas is created from buried organic material.[4][5]\n",
            "Rank 3 (score: 16.60) (doc_id: 68795): Natural gas prices Depending on the marketplace, the price of natural gas is expressed in US dollars (or other currency) per 1 million British thermal units (MMBtu), thousand cubic feet (Mcf), or 1,000 cubic meters. Note that, for natural gas price comparisons, $ per MMBtu multiplied by 1.025 = $ per Mcf of pipeline-quality gas, which is what is delivered to consumers. For rough comparisons, one million Btu is approximately equal to a thousand cubic feet of natural gas.[6] Pipeline-quality gas has a BTU value slightly higher than that of pure methane, which has 1,012 BTU per cubic foot. Natural gas as it comes out of the ground is most often predominantly methane, but may have a wide range of BTU values, from much lower (due to dilution by non-hydrocarbon gasses) to much higher (due to the presence of ethane, propane, and heavier compounds) than standard pipeline-quality gas.[7]\n",
            "Rank 4 (score: 16.41) (doc_id: 36817): Renewable energy in Australia Renewable energy in Australia deals with efforts that have been and continue to be made in Australia to quantify and expand the use of renewable energy in the generation of electricity, as fuel in transport and in thermal energy. Renewable energy is created through electricity generation using renewable sources, such as wind, hydro, landfill gas, geothermal, solar PV and solar thermal. Total renewable energy consumption in Australia in 2015 was 346 petajoules (9.6×1010 kWh) (PJ), 5.9% of Australia's total energy consumption;[1] compared to consumption of 265PJ in 2011/12, 4.3% of Australia's total energy consumption.[2] Of all renewable energy consumption in 2015 (in order of contribution) biomass (wood, woodwaste and bagasse) represented 53%, hydroelectricity 19.2%, wind 10.7%, solar PV 5.1%, biogas 4.7%, solar hot water 3.8% and biofuels 3.6%.[3] Bioenergy (the sum of all energy derived from plant matter) represented 61.3% (211.9PJ) of Australia's total renewable energy consumption in 2015.[3]\n",
            "Rank 5 (score: 16.02) (doc_id: 63061): Fuel Conventional diesel is similar to gasoline in that it is a mixture of aliphatic hydrocarbons extracted from petroleum. Kerosene is used in kerosene lamps and as a fuel for cooking, heating, and small engines. Natural gas, composed chiefly of methane, can only exist as a liquid at very low temperatures (regardless of pressure), which limits its direct use as a liquid fuel in most applications. LP gas is a mixture of propane and butane, both of which are easily compressible gases under standard atmospheric conditions. It offers many of the advantages of compressed natural gas (CNG), but is denser than air, does not burn as cleanly, and is much more easily compressed. Commonly used for cooking and space heating, LP gas and compressed propane are seeing increased use in motorized vehicles; propane is the third most commonly used motor fuel globally.\n"
          ]
        }
      ]
    },
    {
      "cell_type": "code",
      "source": [],
      "metadata": {
        "id": "LBVJYkeCtDdE"
      },
      "execution_count": null,
      "outputs": []
    }
  ],
  "metadata": {
    "colab": {
      "provenance": [],
      "gpuType": "T4"
    },
    "kernelspec": {
      "display_name": "Python 3",
      "name": "python3"
    },
    "language_info": {
      "name": "python"
    },
    "accelerator": "GPU",
    "widgets": {
      "application/vnd.jupyter.widget-state+json": {
        "b32a6d93976d44ff94099308d4e36e87": {
          "model_module": "@jupyter-widgets/controls",
          "model_name": "HBoxModel",
          "model_module_version": "1.5.0",
          "state": {
            "_dom_classes": [],
            "_model_module": "@jupyter-widgets/controls",
            "_model_module_version": "1.5.0",
            "_model_name": "HBoxModel",
            "_view_count": null,
            "_view_module": "@jupyter-widgets/controls",
            "_view_module_version": "1.5.0",
            "_view_name": "HBoxView",
            "box_style": "",
            "children": [
              "IPY_MODEL_362807d932054b4eb37c55dbae9e4aa8",
              "IPY_MODEL_c29dfcc494c8446ca6b8d2df75ef394a",
              "IPY_MODEL_2d3f8da3bf1a46a19bfd93e5d8f0c62b"
            ],
            "layout": "IPY_MODEL_96124c0cd16c4146a37db002bbdd01f8"
          }
        },
        "362807d932054b4eb37c55dbae9e4aa8": {
          "model_module": "@jupyter-widgets/controls",
          "model_name": "HTMLModel",
          "model_module_version": "1.5.0",
          "state": {
            "_dom_classes": [],
            "_model_module": "@jupyter-widgets/controls",
            "_model_module_version": "1.5.0",
            "_model_name": "HTMLModel",
            "_view_count": null,
            "_view_module": "@jupyter-widgets/controls",
            "_view_module_version": "1.5.0",
            "_view_name": "HTMLView",
            "description": "",
            "description_tooltip": null,
            "layout": "IPY_MODEL_bcb3e86e6d324074b2a764e1ad46da33",
            "placeholder": "​",
            "style": "IPY_MODEL_a7e33fd7e13c4fe19995275d4d7dba67",
            "value": "SPLADE Index Retrieve:   0%"
          }
        },
        "c29dfcc494c8446ca6b8d2df75ef394a": {
          "model_module": "@jupyter-widgets/controls",
          "model_name": "FloatProgressModel",
          "model_module_version": "1.5.0",
          "state": {
            "_dom_classes": [],
            "_model_module": "@jupyter-widgets/controls",
            "_model_module_version": "1.5.0",
            "_model_name": "FloatProgressModel",
            "_view_count": null,
            "_view_module": "@jupyter-widgets/controls",
            "_view_module_version": "1.5.0",
            "_view_name": "ProgressView",
            "bar_style": "",
            "description": "",
            "description_tooltip": null,
            "layout": "IPY_MODEL_54e2ff3b81214947b83800083028f86b",
            "max": 10,
            "min": 0,
            "orientation": "horizontal",
            "style": "IPY_MODEL_21e8503a5c164d36b14854f9d393c44c",
            "value": 10
          }
        },
        "2d3f8da3bf1a46a19bfd93e5d8f0c62b": {
          "model_module": "@jupyter-widgets/controls",
          "model_name": "HTMLModel",
          "model_module_version": "1.5.0",
          "state": {
            "_dom_classes": [],
            "_model_module": "@jupyter-widgets/controls",
            "_model_module_version": "1.5.0",
            "_model_name": "HTMLModel",
            "_view_count": null,
            "_view_module": "@jupyter-widgets/controls",
            "_view_module_version": "1.5.0",
            "_view_name": "HTMLView",
            "description": "",
            "description_tooltip": null,
            "layout": "IPY_MODEL_fcf1ea109e554ab3906b15e6d3c532d3",
            "placeholder": "​",
            "style": "IPY_MODEL_64e325275b824cbc809dd1181c58d048",
            "value": " 0/10 [00:00&lt;?, ?it/s]"
          }
        },
        "96124c0cd16c4146a37db002bbdd01f8": {
          "model_module": "@jupyter-widgets/base",
          "model_name": "LayoutModel",
          "model_module_version": "1.2.0",
          "state": {
            "_model_module": "@jupyter-widgets/base",
            "_model_module_version": "1.2.0",
            "_model_name": "LayoutModel",
            "_view_count": null,
            "_view_module": "@jupyter-widgets/base",
            "_view_module_version": "1.2.0",
            "_view_name": "LayoutView",
            "align_content": null,
            "align_items": null,
            "align_self": null,
            "border": null,
            "bottom": null,
            "display": null,
            "flex": null,
            "flex_flow": null,
            "grid_area": null,
            "grid_auto_columns": null,
            "grid_auto_flow": null,
            "grid_auto_rows": null,
            "grid_column": null,
            "grid_gap": null,
            "grid_row": null,
            "grid_template_areas": null,
            "grid_template_columns": null,
            "grid_template_rows": null,
            "height": null,
            "justify_content": null,
            "justify_items": null,
            "left": null,
            "margin": null,
            "max_height": null,
            "max_width": null,
            "min_height": null,
            "min_width": null,
            "object_fit": null,
            "object_position": null,
            "order": null,
            "overflow": null,
            "overflow_x": null,
            "overflow_y": null,
            "padding": null,
            "right": null,
            "top": null,
            "visibility": "hidden",
            "width": null
          }
        },
        "bcb3e86e6d324074b2a764e1ad46da33": {
          "model_module": "@jupyter-widgets/base",
          "model_name": "LayoutModel",
          "model_module_version": "1.2.0",
          "state": {
            "_model_module": "@jupyter-widgets/base",
            "_model_module_version": "1.2.0",
            "_model_name": "LayoutModel",
            "_view_count": null,
            "_view_module": "@jupyter-widgets/base",
            "_view_module_version": "1.2.0",
            "_view_name": "LayoutView",
            "align_content": null,
            "align_items": null,
            "align_self": null,
            "border": null,
            "bottom": null,
            "display": null,
            "flex": null,
            "flex_flow": null,
            "grid_area": null,
            "grid_auto_columns": null,
            "grid_auto_flow": null,
            "grid_auto_rows": null,
            "grid_column": null,
            "grid_gap": null,
            "grid_row": null,
            "grid_template_areas": null,
            "grid_template_columns": null,
            "grid_template_rows": null,
            "height": null,
            "justify_content": null,
            "justify_items": null,
            "left": null,
            "margin": null,
            "max_height": null,
            "max_width": null,
            "min_height": null,
            "min_width": null,
            "object_fit": null,
            "object_position": null,
            "order": null,
            "overflow": null,
            "overflow_x": null,
            "overflow_y": null,
            "padding": null,
            "right": null,
            "top": null,
            "visibility": null,
            "width": null
          }
        },
        "a7e33fd7e13c4fe19995275d4d7dba67": {
          "model_module": "@jupyter-widgets/controls",
          "model_name": "DescriptionStyleModel",
          "model_module_version": "1.5.0",
          "state": {
            "_model_module": "@jupyter-widgets/controls",
            "_model_module_version": "1.5.0",
            "_model_name": "DescriptionStyleModel",
            "_view_count": null,
            "_view_module": "@jupyter-widgets/base",
            "_view_module_version": "1.2.0",
            "_view_name": "StyleView",
            "description_width": ""
          }
        },
        "54e2ff3b81214947b83800083028f86b": {
          "model_module": "@jupyter-widgets/base",
          "model_name": "LayoutModel",
          "model_module_version": "1.2.0",
          "state": {
            "_model_module": "@jupyter-widgets/base",
            "_model_module_version": "1.2.0",
            "_model_name": "LayoutModel",
            "_view_count": null,
            "_view_module": "@jupyter-widgets/base",
            "_view_module_version": "1.2.0",
            "_view_name": "LayoutView",
            "align_content": null,
            "align_items": null,
            "align_self": null,
            "border": null,
            "bottom": null,
            "display": null,
            "flex": null,
            "flex_flow": null,
            "grid_area": null,
            "grid_auto_columns": null,
            "grid_auto_flow": null,
            "grid_auto_rows": null,
            "grid_column": null,
            "grid_gap": null,
            "grid_row": null,
            "grid_template_areas": null,
            "grid_template_columns": null,
            "grid_template_rows": null,
            "height": null,
            "justify_content": null,
            "justify_items": null,
            "left": null,
            "margin": null,
            "max_height": null,
            "max_width": null,
            "min_height": null,
            "min_width": null,
            "object_fit": null,
            "object_position": null,
            "order": null,
            "overflow": null,
            "overflow_x": null,
            "overflow_y": null,
            "padding": null,
            "right": null,
            "top": null,
            "visibility": null,
            "width": null
          }
        },
        "21e8503a5c164d36b14854f9d393c44c": {
          "model_module": "@jupyter-widgets/controls",
          "model_name": "ProgressStyleModel",
          "model_module_version": "1.5.0",
          "state": {
            "_model_module": "@jupyter-widgets/controls",
            "_model_module_version": "1.5.0",
            "_model_name": "ProgressStyleModel",
            "_view_count": null,
            "_view_module": "@jupyter-widgets/base",
            "_view_module_version": "1.2.0",
            "_view_name": "StyleView",
            "bar_color": null,
            "description_width": ""
          }
        },
        "fcf1ea109e554ab3906b15e6d3c532d3": {
          "model_module": "@jupyter-widgets/base",
          "model_name": "LayoutModel",
          "model_module_version": "1.2.0",
          "state": {
            "_model_module": "@jupyter-widgets/base",
            "_model_module_version": "1.2.0",
            "_model_name": "LayoutModel",
            "_view_count": null,
            "_view_module": "@jupyter-widgets/base",
            "_view_module_version": "1.2.0",
            "_view_name": "LayoutView",
            "align_content": null,
            "align_items": null,
            "align_self": null,
            "border": null,
            "bottom": null,
            "display": null,
            "flex": null,
            "flex_flow": null,
            "grid_area": null,
            "grid_auto_columns": null,
            "grid_auto_flow": null,
            "grid_auto_rows": null,
            "grid_column": null,
            "grid_gap": null,
            "grid_row": null,
            "grid_template_areas": null,
            "grid_template_columns": null,
            "grid_template_rows": null,
            "height": null,
            "justify_content": null,
            "justify_items": null,
            "left": null,
            "margin": null,
            "max_height": null,
            "max_width": null,
            "min_height": null,
            "min_width": null,
            "object_fit": null,
            "object_position": null,
            "order": null,
            "overflow": null,
            "overflow_x": null,
            "overflow_y": null,
            "padding": null,
            "right": null,
            "top": null,
            "visibility": null,
            "width": null
          }
        },
        "64e325275b824cbc809dd1181c58d048": {
          "model_module": "@jupyter-widgets/controls",
          "model_name": "DescriptionStyleModel",
          "model_module_version": "1.5.0",
          "state": {
            "_model_module": "@jupyter-widgets/controls",
            "_model_module_version": "1.5.0",
            "_model_name": "DescriptionStyleModel",
            "_view_count": null,
            "_view_module": "@jupyter-widgets/base",
            "_view_module_version": "1.2.0",
            "_view_name": "StyleView",
            "description_width": ""
          }
        },
        "7c673bb0fe5a4dd49ac0c26860b289b9": {
          "model_module": "@jupyter-widgets/controls",
          "model_name": "HBoxModel",
          "model_module_version": "1.5.0",
          "state": {
            "_dom_classes": [],
            "_model_module": "@jupyter-widgets/controls",
            "_model_module_version": "1.5.0",
            "_model_name": "HBoxModel",
            "_view_count": null,
            "_view_module": "@jupyter-widgets/controls",
            "_view_module_version": "1.5.0",
            "_view_name": "HBoxView",
            "box_style": "",
            "children": [
              "IPY_MODEL_926add8c0b8641899ca8c6c06e4880e3",
              "IPY_MODEL_72abffa0bb324406a36918a6e9148d23",
              "IPY_MODEL_28f155149fdc4006b062ac041c7ed6aa"
            ],
            "layout": "IPY_MODEL_d84d6ebc424748c4a864129a25458474"
          }
        },
        "926add8c0b8641899ca8c6c06e4880e3": {
          "model_module": "@jupyter-widgets/controls",
          "model_name": "HTMLModel",
          "model_module_version": "1.5.0",
          "state": {
            "_dom_classes": [],
            "_model_module": "@jupyter-widgets/controls",
            "_model_module_version": "1.5.0",
            "_model_name": "HTMLModel",
            "_view_count": null,
            "_view_module": "@jupyter-widgets/controls",
            "_view_module_version": "1.5.0",
            "_view_name": "HTMLView",
            "description": "",
            "description_tooltip": null,
            "layout": "IPY_MODEL_4e8c52749fad43fa9188f2ce173e641f",
            "placeholder": "​",
            "style": "IPY_MODEL_6a0651b8b29f47289a4550a48acecc20",
            "value": "SPLADE Index Retrieve:   0%"
          }
        },
        "72abffa0bb324406a36918a6e9148d23": {
          "model_module": "@jupyter-widgets/controls",
          "model_name": "FloatProgressModel",
          "model_module_version": "1.5.0",
          "state": {
            "_dom_classes": [],
            "_model_module": "@jupyter-widgets/controls",
            "_model_module_version": "1.5.0",
            "_model_name": "FloatProgressModel",
            "_view_count": null,
            "_view_module": "@jupyter-widgets/controls",
            "_view_module_version": "1.5.0",
            "_view_name": "ProgressView",
            "bar_style": "",
            "description": "",
            "description_tooltip": null,
            "layout": "IPY_MODEL_aed137dc580a47b1b95e6ae277abebd7",
            "max": 1,
            "min": 0,
            "orientation": "horizontal",
            "style": "IPY_MODEL_87cffa68810b48449d1110b564fed916",
            "value": 1
          }
        },
        "28f155149fdc4006b062ac041c7ed6aa": {
          "model_module": "@jupyter-widgets/controls",
          "model_name": "HTMLModel",
          "model_module_version": "1.5.0",
          "state": {
            "_dom_classes": [],
            "_model_module": "@jupyter-widgets/controls",
            "_model_module_version": "1.5.0",
            "_model_name": "HTMLModel",
            "_view_count": null,
            "_view_module": "@jupyter-widgets/controls",
            "_view_module_version": "1.5.0",
            "_view_name": "HTMLView",
            "description": "",
            "description_tooltip": null,
            "layout": "IPY_MODEL_9ca6beb4c93a4ec59b13ed5d35d0540a",
            "placeholder": "​",
            "style": "IPY_MODEL_97b7ed6da4d94ea4b20c89db23591cff",
            "value": " 0/1 [00:00&lt;?, ?it/s]"
          }
        },
        "d84d6ebc424748c4a864129a25458474": {
          "model_module": "@jupyter-widgets/base",
          "model_name": "LayoutModel",
          "model_module_version": "1.2.0",
          "state": {
            "_model_module": "@jupyter-widgets/base",
            "_model_module_version": "1.2.0",
            "_model_name": "LayoutModel",
            "_view_count": null,
            "_view_module": "@jupyter-widgets/base",
            "_view_module_version": "1.2.0",
            "_view_name": "LayoutView",
            "align_content": null,
            "align_items": null,
            "align_self": null,
            "border": null,
            "bottom": null,
            "display": null,
            "flex": null,
            "flex_flow": null,
            "grid_area": null,
            "grid_auto_columns": null,
            "grid_auto_flow": null,
            "grid_auto_rows": null,
            "grid_column": null,
            "grid_gap": null,
            "grid_row": null,
            "grid_template_areas": null,
            "grid_template_columns": null,
            "grid_template_rows": null,
            "height": null,
            "justify_content": null,
            "justify_items": null,
            "left": null,
            "margin": null,
            "max_height": null,
            "max_width": null,
            "min_height": null,
            "min_width": null,
            "object_fit": null,
            "object_position": null,
            "order": null,
            "overflow": null,
            "overflow_x": null,
            "overflow_y": null,
            "padding": null,
            "right": null,
            "top": null,
            "visibility": "hidden",
            "width": null
          }
        },
        "4e8c52749fad43fa9188f2ce173e641f": {
          "model_module": "@jupyter-widgets/base",
          "model_name": "LayoutModel",
          "model_module_version": "1.2.0",
          "state": {
            "_model_module": "@jupyter-widgets/base",
            "_model_module_version": "1.2.0",
            "_model_name": "LayoutModel",
            "_view_count": null,
            "_view_module": "@jupyter-widgets/base",
            "_view_module_version": "1.2.0",
            "_view_name": "LayoutView",
            "align_content": null,
            "align_items": null,
            "align_self": null,
            "border": null,
            "bottom": null,
            "display": null,
            "flex": null,
            "flex_flow": null,
            "grid_area": null,
            "grid_auto_columns": null,
            "grid_auto_flow": null,
            "grid_auto_rows": null,
            "grid_column": null,
            "grid_gap": null,
            "grid_row": null,
            "grid_template_areas": null,
            "grid_template_columns": null,
            "grid_template_rows": null,
            "height": null,
            "justify_content": null,
            "justify_items": null,
            "left": null,
            "margin": null,
            "max_height": null,
            "max_width": null,
            "min_height": null,
            "min_width": null,
            "object_fit": null,
            "object_position": null,
            "order": null,
            "overflow": null,
            "overflow_x": null,
            "overflow_y": null,
            "padding": null,
            "right": null,
            "top": null,
            "visibility": null,
            "width": null
          }
        },
        "6a0651b8b29f47289a4550a48acecc20": {
          "model_module": "@jupyter-widgets/controls",
          "model_name": "DescriptionStyleModel",
          "model_module_version": "1.5.0",
          "state": {
            "_model_module": "@jupyter-widgets/controls",
            "_model_module_version": "1.5.0",
            "_model_name": "DescriptionStyleModel",
            "_view_count": null,
            "_view_module": "@jupyter-widgets/base",
            "_view_module_version": "1.2.0",
            "_view_name": "StyleView",
            "description_width": ""
          }
        },
        "aed137dc580a47b1b95e6ae277abebd7": {
          "model_module": "@jupyter-widgets/base",
          "model_name": "LayoutModel",
          "model_module_version": "1.2.0",
          "state": {
            "_model_module": "@jupyter-widgets/base",
            "_model_module_version": "1.2.0",
            "_model_name": "LayoutModel",
            "_view_count": null,
            "_view_module": "@jupyter-widgets/base",
            "_view_module_version": "1.2.0",
            "_view_name": "LayoutView",
            "align_content": null,
            "align_items": null,
            "align_self": null,
            "border": null,
            "bottom": null,
            "display": null,
            "flex": null,
            "flex_flow": null,
            "grid_area": null,
            "grid_auto_columns": null,
            "grid_auto_flow": null,
            "grid_auto_rows": null,
            "grid_column": null,
            "grid_gap": null,
            "grid_row": null,
            "grid_template_areas": null,
            "grid_template_columns": null,
            "grid_template_rows": null,
            "height": null,
            "justify_content": null,
            "justify_items": null,
            "left": null,
            "margin": null,
            "max_height": null,
            "max_width": null,
            "min_height": null,
            "min_width": null,
            "object_fit": null,
            "object_position": null,
            "order": null,
            "overflow": null,
            "overflow_x": null,
            "overflow_y": null,
            "padding": null,
            "right": null,
            "top": null,
            "visibility": null,
            "width": null
          }
        },
        "87cffa68810b48449d1110b564fed916": {
          "model_module": "@jupyter-widgets/controls",
          "model_name": "ProgressStyleModel",
          "model_module_version": "1.5.0",
          "state": {
            "_model_module": "@jupyter-widgets/controls",
            "_model_module_version": "1.5.0",
            "_model_name": "ProgressStyleModel",
            "_view_count": null,
            "_view_module": "@jupyter-widgets/base",
            "_view_module_version": "1.2.0",
            "_view_name": "StyleView",
            "bar_color": null,
            "description_width": ""
          }
        },
        "9ca6beb4c93a4ec59b13ed5d35d0540a": {
          "model_module": "@jupyter-widgets/base",
          "model_name": "LayoutModel",
          "model_module_version": "1.2.0",
          "state": {
            "_model_module": "@jupyter-widgets/base",
            "_model_module_version": "1.2.0",
            "_model_name": "LayoutModel",
            "_view_count": null,
            "_view_module": "@jupyter-widgets/base",
            "_view_module_version": "1.2.0",
            "_view_name": "LayoutView",
            "align_content": null,
            "align_items": null,
            "align_self": null,
            "border": null,
            "bottom": null,
            "display": null,
            "flex": null,
            "flex_flow": null,
            "grid_area": null,
            "grid_auto_columns": null,
            "grid_auto_flow": null,
            "grid_auto_rows": null,
            "grid_column": null,
            "grid_gap": null,
            "grid_row": null,
            "grid_template_areas": null,
            "grid_template_columns": null,
            "grid_template_rows": null,
            "height": null,
            "justify_content": null,
            "justify_items": null,
            "left": null,
            "margin": null,
            "max_height": null,
            "max_width": null,
            "min_height": null,
            "min_width": null,
            "object_fit": null,
            "object_position": null,
            "order": null,
            "overflow": null,
            "overflow_x": null,
            "overflow_y": null,
            "padding": null,
            "right": null,
            "top": null,
            "visibility": null,
            "width": null
          }
        },
        "97b7ed6da4d94ea4b20c89db23591cff": {
          "model_module": "@jupyter-widgets/controls",
          "model_name": "DescriptionStyleModel",
          "model_module_version": "1.5.0",
          "state": {
            "_model_module": "@jupyter-widgets/controls",
            "_model_module_version": "1.5.0",
            "_model_name": "DescriptionStyleModel",
            "_view_count": null,
            "_view_module": "@jupyter-widgets/base",
            "_view_module_version": "1.2.0",
            "_view_name": "StyleView",
            "description_width": ""
          }
        }
      }
    }
  },
  "nbformat": 4,
  "nbformat_minor": 0
}