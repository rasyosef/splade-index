{
  "cells": [
    {
      "cell_type": "code",
      "source": [
        "! pip install -q sentence_transformers splade-index"
      ],
      "metadata": {
        "id": "CaCpdiO5hOGw"
      },
      "execution_count": 1,
      "outputs": []
    },
    {
      "cell_type": "markdown",
      "metadata": {
        "id": "wfHBcNar1cTR"
      },
      "source": [
        "### **Load Dataset**"
      ]
    },
    {
      "cell_type": "code",
      "execution_count": null,
      "metadata": {
        "id": "8D6tdfqK1e64"
      },
      "outputs": [],
      "source": [
        "from datasets import load_dataset\n",
        "\n",
        "dataset = load_dataset(\"sentence-transformers/natural-questions\", split=\"train\")\n",
        "dataset"
      ]
    },
    {
      "cell_type": "code",
      "source": [
        "import hashlib\n",
        "\n",
        "# Using md5 hash function to deduplicate documents\n",
        "def md5(text):\n",
        "  res = hashlib.md5(text.encode())\n",
        "  return res.hexdigest()\n",
        "\n",
        "documents = {md5(document): document for document in dataset['answer']}\n",
        "queries = {md5(query): query for query in dataset['query']}\n",
        "relevant_docs = {md5(query): [md5(document)] for query, document in zip(dataset['query'], dataset['answer'])}\n",
        "\n",
        "len(queries), len(documents), len(relevant_docs)"
      ],
      "metadata": {
        "colab": {
          "base_uri": "https://localhost:8080/"
        },
        "id": "BgXpH6u-XgLH",
        "outputId": "7f0409f1-f37c-47ec-c290-3fad2d0c0a1a"
      },
      "execution_count": 3,
      "outputs": [
        {
          "output_type": "execute_result",
          "data": {
            "text/plain": [
              "(100231, 75215, 100231)"
            ]
          },
          "metadata": {},
          "execution_count": 3
        }
      ]
    },
    {
      "cell_type": "markdown",
      "metadata": {
        "id": "Qjn5c441AM72"
      },
      "source": [
        "### **Index the Documents**"
      ]
    },
    {
      "cell_type": "code",
      "execution_count": null,
      "metadata": {
        "id": "4gQ4OaZZ1q53"
      },
      "outputs": [],
      "source": [
        "from sentence_transformers import SparseEncoder\n",
        "\n",
        "# Download a SPLADE model from the 🤗 Hub\n",
        "splade = SparseEncoder(\"naver/splade-v3-distilbert\", device=\"cuda\")\n",
        "splade"
      ]
    },
    {
      "cell_type": "code",
      "execution_count": 5,
      "metadata": {
        "colab": {
          "base_uri": "https://localhost:8080/"
        },
        "id": "bsESKM17A2It",
        "outputId": "2e9859cb-aedc-4159-82d8-c30fc9fe8546"
      },
      "outputs": [
        {
          "output_type": "execute_result",
          "data": {
            "text/plain": [
              "75215"
            ]
          },
          "metadata": {},
          "execution_count": 5
        }
      ],
      "source": [
        "import numpy as np\n",
        "\n",
        "# The documents\n",
        "corpus = list(documents.values())\n",
        "len(corpus)"
      ]
    },
    {
      "cell_type": "code",
      "execution_count": null,
      "metadata": {
        "id": "oBe5ivP6AW2D"
      },
      "outputs": [],
      "source": [
        "from splade_index import SPLADE\n",
        "\n",
        "# Create the SPLADE retriever and index the corpus\n",
        "retriever = SPLADE()\n",
        "retriever.index(model=splade, documents=corpus)"
      ]
    },
    {
      "cell_type": "markdown",
      "source": [
        "### **Save Index Locally**"
      ],
      "metadata": {
        "id": "BZ3Gnnf1CyS6"
      }
    },
    {
      "cell_type": "code",
      "source": [
        "# save index locally\n",
        "retriever.save(\"natural-questions-75k\")"
      ],
      "metadata": {
        "id": "Ej8HM1Iv_qFv"
      },
      "execution_count": 7,
      "outputs": []
    },
    {
      "cell_type": "markdown",
      "source": [
        "### **Load the Index**"
      ],
      "metadata": {
        "id": "VpBhVQuRh15K"
      }
    },
    {
      "cell_type": "code",
      "source": [
        "from sentence_transformers import SparseEncoder\n",
        "\n",
        "# Download a SPLADE model from the 🤗 Hub\n",
        "splade = SparseEncoder(\"naver/splade-v3-distilbert\", device=\"cuda\")\n",
        "splade"
      ],
      "metadata": {
        "colab": {
          "base_uri": "https://localhost:8080/"
        },
        "id": "tAKxqTtLal2r",
        "outputId": "bba428a3-c4fb-4179-b997-e918142ad6c5"
      },
      "execution_count": 8,
      "outputs": [
        {
          "output_type": "execute_result",
          "data": {
            "text/plain": [
              "SparseEncoder(\n",
              "  (0): MLMTransformer({'max_seq_length': 512, 'do_lower_case': False, 'architecture': 'DistilBertForMaskedLM'})\n",
              "  (1): SpladePooling({'pooling_strategy': 'max', 'activation_function': 'relu', 'word_embedding_dimension': None})\n",
              ")"
            ]
          },
          "metadata": {},
          "execution_count": 8
        }
      ]
    },
    {
      "cell_type": "code",
      "source": [
        "# you can set `mmap` to True for low memory usage\n",
        "reloaded_retriever = SPLADE.load(save_dir=\"natural-questions-75k\", model=splade, mmap=True)"
      ],
      "metadata": {
        "id": "MNJ0WmoKaY-E"
      },
      "execution_count": 9,
      "outputs": []
    },
    {
      "cell_type": "code",
      "source": [
        "# The documents\n",
        "query_list = list(queries.values())[:10]\n",
        "len(query_list), query_list[:3]"
      ],
      "metadata": {
        "colab": {
          "base_uri": "https://localhost:8080/"
        },
        "id": "0c5lzxDhs3X0",
        "outputId": "b8d8a245-ce62-4656-a6ce-4a2c25b1b398"
      },
      "execution_count": 11,
      "outputs": [
        {
          "output_type": "execute_result",
          "data": {
            "text/plain": [
              "(10,\n",
              " ['when did richmond last play in a preliminary final',\n",
              "  \"who sang what in the world's come over you\",\n",
              "  'who produces the most wool in the world'])"
            ]
          },
          "metadata": {},
          "execution_count": 11
        }
      ]
    },
    {
      "cell_type": "code",
      "source": [
        "# Get top-k results as a tuple of (doc ids, documents, scores). All three are arrays of shape (n_queries, k).\n",
        "results = reloaded_retriever.retrieve(query_list, k=5)\n",
        "doc_ids, result_docs, scores = results.doc_ids, results.documents, results.scores\n",
        "\n",
        "for i in range(doc_ids.shape[1]):\n",
        "    doc_id, doc, score = doc_ids[0, i], result_docs[0, i], scores[0, i]\n",
        "    print(f\"Rank {i+1} (score: {score:.2f}) (doc_id: {doc_id}): {doc}\")"
      ],
      "metadata": {
        "colab": {
          "base_uri": "https://localhost:8080/"
        },
        "id": "Hm5xAv5qtrJA",
        "outputId": "85b58114-e98e-44b5-9dfc-b18df4510307"
      },
      "execution_count": 21,
      "outputs": [
        {
          "output_type": "stream",
          "name": "stdout",
          "text": [
            "Rank 1 (score: 23.77) (doc_id: 11233): Richmond Football Club Richmond began 2017 with 5 straight wins, a feat it had not achieved since 1995. A series of close losses hampered the Tigers throughout the middle of the season, including a 5-point loss to the Western Bulldogs, 2-point loss to Fremantle, and a 3-point loss to the Giants. Richmond ended the season strongly with convincing victories over Fremantle and St Kilda in the final two rounds, elevating the club to 3rd on the ladder. Richmond's first final of the season – their qualifying final against the Cats at the MCG attracted a record qualifying final crowd of 95,028; the Tigers won by 51 points. In their first preliminary final since 2001, Richmond defeated Greater Western Sydney by 36 points in front of a crowd of 94,258 to progress to the Grand Final against Adelaide, their first Grand Final appearance since 1982. The attendance was 100,021, the largest crowd for a Grand Final since 1986. The Crows led at quarter time and led by as many as 13, but the Tigers took over the game as it progressed and kicked seven straight goals at one point. They eventually would win by 48 points – 16.12 (108) to Adelaide's 8.12 (60) – to end their 37-year flag drought.[23] Dustin Martin also became the first player to win a Premiership medal, the Brownlow Medal and the Norm Smith Medal in the same season, while Damien Hardwick was named AFL Coaches Association Coach of the Year. Richmond's jump from 13th to premiers also marked the biggest jump from one AFL season to the next.\n",
            "Rank 2 (score: 23.16) (doc_id: 0): Richmond Football Club Richmond began 2017 with 5 straight wins, a feat it had not achieved since 1995. A series of close losses hampered the Tigers throughout the middle of the season, including a 5-point loss to the Western Bulldogs, 2-point loss to Fremantle, and a 3-point loss to the Giants. Richmond ended the season strongly with convincing victories over Fremantle and St Kilda in the final two rounds, elevating the club to 3rd on the ladder. Richmond's first final of the season against the Cats at the MCG attracted a record qualifying final crowd of 95,028; the Tigers won by 51 points. Having advanced to the first preliminary finals for the first time since 2001, Richmond defeated Greater Western Sydney by 36 points in front of a crowd of 94,258 to progress to the Grand Final against Adelaide, their first Grand Final appearance since 1982. The attendance was 100,021, the largest crowd to a grand final since 1986. The Crows led at quarter time and led by as many as 13, but the Tigers took over the game as it progressed and scored seven straight goals at one point. They eventually would win by 48 points – 16.12 (108) to Adelaide's 8.12 (60) – to end their 37-year flag drought.[22] Dustin Martin also became the first player to win a Premiership medal, the Brownlow Medal and the Norm Smith Medal in the same season, while Damien Hardwick was named AFL Coaches Association Coach of the Year. Richmond's jump from 13th to premiers also marked the biggest jump from one AFL season to the next.\n",
            "Rank 3 (score: 21.34) (doc_id: 66392): Richmond Football Club Since the Tigers' grand final appearance in 1982, the club has appeared in six finals series (1995, 2001, 2013, 2014, 2015, 2017). Board and coaching instability during the 1980s and 1990s distracted the club and forced its focus away from becoming an on-field force.\n",
            "Rank 4 (score: 19.96) (doc_id: 30132): Rivalries in the Australian Football League Arising from the fact that the two areas neighbour each other, Richmond and Collingwood were both highly successful in the late 1920s to the early 1930s; the clubs played against each other in five grand finals between 1919 and 1929 (Collingwood won in 1919, 1927, 1928 and 1929, while Richmond won in 1920). In the 1980 Grand Final, Richmond handed Collingwood an 81-point defeat, a record at the time.\n",
            "Rank 5 (score: 19.21) (doc_id: 65618): Richmond Football Club The Richmond Football Club, nicknamed the Tigers, is a professional Australian rules football club playing in the Australian Football League (AFL), the sport's premier competition. Between its inception in Richmond, Melbourne in 1885 and 1907, the club competed in the Victorian Football Association (VFA), winning two premierships. Richmond joined the Victorian Football League (now known as the AFL) in 1908 and has since won eleven premierships, most recently in 2017.\n"
          ]
        }
      ]
    },
    {
      "cell_type": "markdown",
      "source": [
        "### **Save Index to HuggingFace Hub**"
      ],
      "metadata": {
        "id": "lcTEV_0OtWak"
      }
    },
    {
      "cell_type": "code",
      "source": [
        "from google.colab import userdata\n",
        "\n",
        "username = \"yosefw\" # your huggingface username\n",
        "repo_id = f\"{username}/splade-index-natural-questions-75k\"\n",
        "retriever.save_to_hub(repo_id, private=True, token=userdata.get(\"HF_WRITE_TOKEN\")) # `token` should be set to your huggingface token"
      ],
      "metadata": {
        "id": "U1k2Zyo7taLN"
      },
      "execution_count": null,
      "outputs": []
    },
    {
      "cell_type": "markdown",
      "source": [
        "### **Load Index from Hub**"
      ],
      "metadata": {
        "id": "Vy6kocCLz4JH"
      }
    },
    {
      "cell_type": "code",
      "source": [
        "from sentence_transformers import SparseEncoder\n",
        "\n",
        "# Download a SPLADE model from the 🤗 Hub\n",
        "splade = SparseEncoder(\"naver/splade-v3-distilbert\", device=\"cuda\")\n",
        "splade"
      ],
      "metadata": {
        "id": "BpkhutH10F47",
        "colab": {
          "base_uri": "https://localhost:8080/"
        },
        "outputId": "5caa3cf3-516b-4a14-c471-9f059d41342d"
      },
      "execution_count": 17,
      "outputs": [
        {
          "output_type": "execute_result",
          "data": {
            "text/plain": [
              "SparseEncoder(\n",
              "  (0): MLMTransformer({'max_seq_length': 512, 'do_lower_case': False, 'architecture': 'DistilBertForMaskedLM'})\n",
              "  (1): SpladePooling({'pooling_strategy': 'max', 'activation_function': 'relu', 'word_embedding_dimension': None})\n",
              ")"
            ]
          },
          "metadata": {},
          "execution_count": 17
        }
      ]
    },
    {
      "cell_type": "code",
      "source": [
        "from splade_index import SPLADE\n",
        "from google.colab import userdata\n",
        "\n",
        "repo_id = \"yosefw/splade-index-natural-questions-75k\"\n",
        "loaded_retriever = SPLADE.load_from_hub(repo_id, model=splade, mmap=True, token=userdata.get(\"HF_WRITE_TOKEN\"))"
      ],
      "metadata": {
        "id": "oB4O-wEXuxvu"
      },
      "execution_count": null,
      "outputs": []
    },
    {
      "cell_type": "code",
      "source": [
        "query = ['is natural gas renewable']\n",
        "\n",
        "# Get top-k results as a tuple of (doc ids, documents, scores). All three are arrays of shape (n_queries, k).\n",
        "results = loaded_retriever.retrieve(query, k=5)\n",
        "doc_ids, result_docs, scores = results.doc_ids, results.documents, results.scores\n",
        "\n",
        "for i in range(doc_ids.shape[1]):\n",
        "    doc_id, doc, score = doc_ids[0, i], result_docs[0, i], scores[0, i]\n",
        "    print(f\"Rank {i+1} (score: {score:.2f}) (doc_id: {doc_id}): {doc}\")"
      ],
      "metadata": {
        "colab": {
          "base_uri": "https://localhost:8080/"
        },
        "id": "R84BdYCP0H_q",
        "outputId": "fdc8173f-27f5-42d4-c56d-8ccf4c99365f"
      },
      "execution_count": 20,
      "outputs": [
        {
          "output_type": "stream",
          "name": "stdout",
          "text": [
            "Rank 1 (score: 21.91) (doc_id: 12107): Natural gas Natural gas is a fossil fuel used as a source of energy for heating, cooking, and electricity generation. It is also used as a fuel for vehicles and as a chemical feedstock in the manufacture of plastics and other commercially important organic chemicals. Fossil fuel based natural gas is a non-renewable resource.[3]\n",
            "Rank 2 (score: 17.32) (doc_id: 74390): Natural gas Natural gas is found in deep underground rock formations or associated with other hydrocarbon reservoirs in coal beds and as methane clathrates. Petroleum is another resource and fossil fuel found in close proximity to and with natural gas. Most natural gas was created over time by two mechanisms: biogenic and thermogenic. Biogenic gas is created by methanogenic organisms in marshes, bogs, landfills, and shallow sediments. Deeper in the earth, at greater temperature and pressure, thermogenic gas is created from buried organic material.[4][5]\n",
            "Rank 3 (score: 16.60) (doc_id: 68795): Natural gas prices Depending on the marketplace, the price of natural gas is expressed in US dollars (or other currency) per 1 million British thermal units (MMBtu), thousand cubic feet (Mcf), or 1,000 cubic meters. Note that, for natural gas price comparisons, $ per MMBtu multiplied by 1.025 = $ per Mcf of pipeline-quality gas, which is what is delivered to consumers. For rough comparisons, one million Btu is approximately equal to a thousand cubic feet of natural gas.[6] Pipeline-quality gas has a BTU value slightly higher than that of pure methane, which has 1,012 BTU per cubic foot. Natural gas as it comes out of the ground is most often predominantly methane, but may have a wide range of BTU values, from much lower (due to dilution by non-hydrocarbon gasses) to much higher (due to the presence of ethane, propane, and heavier compounds) than standard pipeline-quality gas.[7]\n",
            "Rank 4 (score: 16.41) (doc_id: 36817): Renewable energy in Australia Renewable energy in Australia deals with efforts that have been and continue to be made in Australia to quantify and expand the use of renewable energy in the generation of electricity, as fuel in transport and in thermal energy. Renewable energy is created through electricity generation using renewable sources, such as wind, hydro, landfill gas, geothermal, solar PV and solar thermal. Total renewable energy consumption in Australia in 2015 was 346 petajoules (9.6×1010 kWh) (PJ), 5.9% of Australia's total energy consumption;[1] compared to consumption of 265PJ in 2011/12, 4.3% of Australia's total energy consumption.[2] Of all renewable energy consumption in 2015 (in order of contribution) biomass (wood, woodwaste and bagasse) represented 53%, hydroelectricity 19.2%, wind 10.7%, solar PV 5.1%, biogas 4.7%, solar hot water 3.8% and biofuels 3.6%.[3] Bioenergy (the sum of all energy derived from plant matter) represented 61.3% (211.9PJ) of Australia's total renewable energy consumption in 2015.[3]\n",
            "Rank 5 (score: 16.02) (doc_id: 63061): Fuel Conventional diesel is similar to gasoline in that it is a mixture of aliphatic hydrocarbons extracted from petroleum. Kerosene is used in kerosene lamps and as a fuel for cooking, heating, and small engines. Natural gas, composed chiefly of methane, can only exist as a liquid at very low temperatures (regardless of pressure), which limits its direct use as a liquid fuel in most applications. LP gas is a mixture of propane and butane, both of which are easily compressible gases under standard atmospheric conditions. It offers many of the advantages of compressed natural gas (CNG), but is denser than air, does not burn as cleanly, and is much more easily compressed. Commonly used for cooking and space heating, LP gas and compressed propane are seeing increased use in motorized vehicles; propane is the third most commonly used motor fuel globally.\n"
          ]
        }
      ]
    },
    {
      "cell_type": "code",
      "source": [],
      "metadata": {
        "id": "LBVJYkeCtDdE"
      },
      "execution_count": null,
      "outputs": []
    }
  ],
  "metadata": {
    "colab": {
      "provenance": [],
      "gpuType": "T4"
    },
    "kernelspec": {
      "display_name": "Python 3",
      "name": "python3"
    },
    "language_info": {
      "name": "python"
    },
    "accelerator": "GPU"
  },
  "nbformat": 4,
  "nbformat_minor": 0
}