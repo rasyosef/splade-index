{
  "cells": [
    {
      "cell_type": "code",
      "execution_count": 1,
      "metadata": {
        "id": "K9HY-ixO0lWp"
      },
      "outputs": [],
      "source": [
        "! pip install -Uq datasets splade-index numba \"jax[cpu]\""
      ]
    },
    {
      "cell_type": "code",
      "execution_count": 2,
      "metadata": {
        "id": "o1BGy7vD1DlF"
      },
      "outputs": [],
      "source": [
        "import os\n",
        "\n",
        "os.environ[\"JAX_PLATFORMS\"]=\"cpu\""
      ]
    },
    {
      "cell_type": "markdown",
      "metadata": {
        "id": "wfHBcNar1cTR"
      },
      "source": [
        "### **Load Dataset**"
      ]
    },
    {
      "cell_type": "code",
      "execution_count": null,
      "metadata": {
        "id": "8D6tdfqK1e64"
      },
      "outputs": [],
      "source": [
        "from datasets import load_dataset\n",
        "\n",
        "msmarco = load_dataset(\"rasyosef/msmarco\")\n",
        "msmarco"
      ]
    },
    {
      "cell_type": "code",
      "execution_count": 4,
      "metadata": {
        "colab": {
          "base_uri": "https://localhost:8080/"
        },
        "id": "6mTBOFXn1i2G",
        "outputId": "40eda78c-b947-424d-db5f-2f66a51d5961"
      },
      "outputs": [
        {
          "data": {
            "text/plain": [
              "Dataset({\n",
              "    features: ['query_id', 'query', 'positives', 'negatives'],\n",
              "    num_rows: 55577\n",
              "})"
            ]
          },
          "execution_count": 4,
          "metadata": {},
          "output_type": "execute_result"
        }
      ],
      "source": [
        "test_dataset = msmarco[\"dev\"].shuffle(seed=42)#.select(range(10_000))\n",
        "test_dataset"
      ]
    },
    {
      "cell_type": "code",
      "execution_count": 5,
      "metadata": {
        "colab": {
          "base_uri": "https://localhost:8080/"
        },
        "id": "o_PXTqh41mpz",
        "outputId": "76b0cbcf-b58e-4bd1-ecc7-fc6772090d74"
      },
      "outputs": [
        {
          "data": {
            "text/plain": [
              "(542280, 55577, 55577)"
            ]
          },
          "execution_count": 5,
          "metadata": {},
          "output_type": "execute_result"
        }
      ],
      "source": [
        "import hashlib\n",
        "from datasets import concatenate_datasets\n",
        "\n",
        "# Using md5 hash function to deduplicate documents\n",
        "def md5(text):\n",
        "  res = hashlib.md5(text.encode())\n",
        "  return res.hexdigest()\n",
        "\n",
        "dev_dataset = test_dataset\n",
        "\n",
        "dev_queries = dict(zip(dev_dataset[\"query_id\"], dev_dataset[\"query\"]))\n",
        "\n",
        "dev_corpus = {}\n",
        "for row in dev_dataset:\n",
        "  for passage in row[\"positives\"]:\n",
        "    dev_corpus[md5(passage)] = passage\n",
        "\n",
        "  for passage in row[\"negatives\"]:\n",
        "    dev_corpus[md5(passage)] = passage\n",
        "\n",
        "dev_relevant_docs = dict(\n",
        "    zip(\n",
        "      dev_dataset[\"query_id\"],\n",
        "      [[md5(pos) for pos in positives] for positives in dev_dataset[\"positives\"]]\n",
        "    )\n",
        "  )\n",
        "\n",
        "len(dev_corpus), len(dev_queries), len(dev_relevant_docs)"
      ]
    },
    {
      "cell_type": "markdown",
      "metadata": {
        "id": "Qjn5c441AM72"
      },
      "source": [
        "### **Index the Documents**"
      ]
    },
    {
      "cell_type": "code",
      "execution_count": null,
      "metadata": {
        "colab": {
          "base_uri": "https://localhost:8080/"
        },
        "id": "4gQ4OaZZ1q53",
        "outputId": "06af11f3-ab3f-4d4e-93e0-ca61478db7b9"
      },
      "outputs": [],
      "source": [
        "from sentence_transformers import SparseEncoder\n",
        "\n",
        "# Download a SPLADE model from the 🤗 Hub\n",
        "splade = SparseEncoder(\"rasyosef/splade-mini\", device=\"cuda\")\n",
        "\n",
        "splade"
      ]
    },
    {
      "cell_type": "code",
      "execution_count": 8,
      "metadata": {
        "colab": {
          "base_uri": "https://localhost:8080/"
        },
        "id": "bsESKM17A2It",
        "outputId": "36468b32-f31b-4e20-bd52-eda15fa7451f"
      },
      "outputs": [
        {
          "data": {
            "text/plain": [
              "542280"
            ]
          },
          "execution_count": 8,
          "metadata": {},
          "output_type": "execute_result"
        }
      ],
      "source": [
        "# The documents\n",
        "corpus = list(dev_corpus.values())\n",
        "len(corpus)"
      ]
    },
    {
      "cell_type": "code",
      "execution_count": null,
      "metadata": {
        "colab": {
          "base_uri": "https://localhost:8080/"
        },
        "id": "oBe5ivP6AW2D",
        "outputId": "81b8e59a-cb1d-4330-b5b0-63d5b341a62e"
      },
      "outputs": [],
      "source": [
        "from splade_index import SPLADE\n",
        "\n",
        "# Create the SPLADE retriever and index the corpus\n",
        "retriever = SPLADE()\n",
        "retriever.index(model=splade, documents=corpus)"
      ]
    },
    {
      "cell_type": "markdown",
      "metadata": {
        "id": "HyA1kFewzoOQ"
      },
      "source": [
        "### **Query the index**"
      ]
    },
    {
      "cell_type": "code",
      "execution_count": 10,
      "metadata": {
        "colab": {
          "base_uri": "https://localhost:8080/"
        },
        "id": "pRRGlCBDQQl7",
        "outputId": "38ba257e-7426-4819-c27f-9a91db492f58"
      },
      "outputs": [
        {
          "data": {
            "text/plain": [
              "(5000,\n",
              " ['is natural gas renewable',\n",
              "  'how many hours of sunlight do succulents need?',\n",
              "  'what is an acute / obtuse triangle'])"
            ]
          },
          "execution_count": 10,
          "metadata": {},
          "output_type": "execute_result"
        }
      ],
      "source": [
        "queries = list(dev_queries.values())[:5000]\n",
        "len(queries), queries[:3]"
      ]
    },
    {
      "cell_type": "code",
      "execution_count": null,
      "metadata": {
        "colab": {
          "base_uri": "https://localhost:8080/",
          "height": 52,
          "referenced_widgets": [
            "d144782056e146cabafc3c14c77218f3",
            "6b950899c4a849128cb1b7f1bc332b7f",
            "b2425e03cef549e6b0ab039d618ecf2f",
            "f01987681f5b4e4ab5c10f0699d7fd02",
            "27c78d0e4783474c8634f83e05e58310",
            "ad792e6e1e01443480090f9b026212a2",
            "e4db8f106c494ad6baf64440429679ef",
            "e0136c33113a4576911e701d17935a4e",
            "49795d120f084d59b45451c839f16f47",
            "7fa30f057fa34d268591a8da8e0af2d3",
            "6f8ac74b8c42419e9c5762de9d58479b"
          ]
        },
        "id": "DIpZMc-MJKPa",
        "outputId": "eb0b0a3c-05bf-4810-dac3-c2177f24d0bc"
      },
      "outputs": [
        {
          "name": "stderr",
          "output_type": "stream",
          "text": [
            "Batches: 100%|██████████| 157/157 [00:01<00:00, 102.26it/s]\n"
          ]
        },
        {
          "data": {
            "application/vnd.jupyter.widget-view+json": {
              "model_id": "d144782056e146cabafc3c14c77218f3",
              "version_major": 2,
              "version_minor": 0
            },
            "text/plain": [
              "SPLADE Index Retrieve:   0%|          | 0/5000 [00:00<?, ?it/s]"
            ]
          },
          "metadata": {},
          "output_type": "display_data"
        },
        {
          "name": "stdout",
          "output_type": "stream",
          "text": [
            "Avergae retrieval time per query: 6.11 ms\n"
          ]
        }
      ],
      "source": [
        "# Get top-k results as a tuple of (doc_ids, documents, scores). All three are arrays of shape (n_queries, k).\n",
        "from time import time\n",
        "\n",
        "start_time = time()\n",
        "\n",
        "results = retriever.retrieve(queries, k=5)\n",
        "doc_ids, result_docs, scores = results.doc_ids, results.documents, results.scores\n",
        "\n",
        "time_taken = time() - start_time\n",
        "print(f\"Average retrieval time per query: {time_taken*1000/len(queries) :.2f} ms\")"
      ]
    },
    {
      "cell_type": "code",
      "execution_count": 12,
      "metadata": {
        "colab": {
          "base_uri": "https://localhost:8080/"
        },
        "id": "W-iZMPXMp8ij",
        "outputId": "dfbddda5-b535-4dc3-8f4c-e032a8360366"
      },
      "outputs": [
        {
          "name": "stdout",
          "output_type": "stream",
          "text": [
            "Query: is natural gas renewable\n",
            "Retrieved Documents:\n",
            "Rank 1 (score: 27.00) (doc_idx: 7): Renewable natural gas can be produced economically, and distributed via the existing gas grid, making it an attractive means of supplying existing premises with renewable heat and renewable gas energy, while requiring no extra capital outlay of the customer.\n",
            "Rank 2 (score: 25.99) (doc_idx: 0): Renewable natural gas. Renewable natural gas, also known as sustainable natural gas, is a biogas which has been upgraded to a quality similar to fossil natural gas. A biogas is a gas methane obtained from biomass. By upgrading the quality to that of natural gas, it becomes possible to distribute the gas to customers via the existing gas grid, within existing appliances. Renewable natural gas is a subset of synthetic natural gas or substitute natural gas (SNG).\n",
            "Rank 3 (score: 25.02) (doc_idx: 6): While conventional natural gas is not considered a renewable fuel, biomethane or renewable natural gas can be produced from organic material found in dairies, landfills, and wastewater treatment facilities, leading to GHG emission reductions of up to 85% compared to conventional natural gas.\n",
            "Rank 4 (score: 24.88) (doc_idx: 498441): Confidence votes 1.1K. Natural gas, methane, the fossil fuel, is NOT a renewable resource. Natural gas, methane, produced from pig manure and rotting vegetation and collected from landfills IS a renewable resource. It cannot be renewed from its original source as fossil fuel. Much of the natural gas we are burning now formed in deposits buried during the Devonian period, 300 million years ago.\n",
            "Rank 5 (score: 24.87) (doc_idx: 265199): Natural resources are things that occur naturally, and that are useful to us. They include fuels such as oil and natural gas, and materials such as iron ore, and timber. Renewable resources are those that are replaced in nature at a rate close to their rate of use e.g. plants, forests and animals. Care is needed to make sure resources are used sustainably and not over- harvested.\n"
          ]
        }
      ],
      "source": [
        "print(\"Query:\", queries[0])\n",
        "\n",
        "print(\"Retrieved Documents:\")\n",
        "for i in range(doc_ids.shape[1]):\n",
        "    doc_id, doc, score = doc_ids[0, i], result_docs[0, i], scores[0, i]\n",
        "    print(f\"Rank {i+1} (score: {score:.2f}) (doc_idx: {doc_id}):\", doc)"
      ]
    },
    {
      "cell_type": "markdown",
      "metadata": {
        "id": "Plm0jsv002nh"
      },
      "source": [
        "### **Summary:**\n",
        "- splade-tiny takes 9m to index 500k docs 5.94ms/query on a T4 16GB GPU\n",
        "- splade-mini takes 12m to index 500k docs and 6.11ms/query on a T4 16GB GPU"
      ]
    },
    {
      "cell_type": "code",
      "execution_count": null,
      "metadata": {
        "id": "ql564Le71AYF"
      },
      "outputs": [],
      "source": []
    }
  ],
  "metadata": {
    "accelerator": "GPU",
    "colab": {
      "gpuType": "T4",
      "provenance": []
    },
    "kernelspec": {
      "display_name": "Python 3",
      "name": "python3"
    },
    "language_info": {
      "name": "python"
    },
    "widgets": {
      "application/vnd.jupyter.widget-state+json": {
        "27c78d0e4783474c8634f83e05e58310": {
          "model_module": "@jupyter-widgets/base",
          "model_module_version": "1.2.0",
          "model_name": "LayoutModel",
          "state": {
            "_model_module": "@jupyter-widgets/base",
            "_model_module_version": "1.2.0",
            "_model_name": "LayoutModel",
            "_view_count": null,
            "_view_module": "@jupyter-widgets/base",
            "_view_module_version": "1.2.0",
            "_view_name": "LayoutView",
            "align_content": null,
            "align_items": null,
            "align_self": null,
            "border": null,
            "bottom": null,
            "display": null,
            "flex": null,
            "flex_flow": null,
            "grid_area": null,
            "grid_auto_columns": null,
            "grid_auto_flow": null,
            "grid_auto_rows": null,
            "grid_column": null,
            "grid_gap": null,
            "grid_row": null,
            "grid_template_areas": null,
            "grid_template_columns": null,
            "grid_template_rows": null,
            "height": null,
            "justify_content": null,
            "justify_items": null,
            "left": null,
            "margin": null,
            "max_height": null,
            "max_width": null,
            "min_height": null,
            "min_width": null,
            "object_fit": null,
            "object_position": null,
            "order": null,
            "overflow": null,
            "overflow_x": null,
            "overflow_y": null,
            "padding": null,
            "right": null,
            "top": null,
            "visibility": "hidden",
            "width": null
          }
        },
        "49795d120f084d59b45451c839f16f47": {
          "model_module": "@jupyter-widgets/controls",
          "model_module_version": "1.5.0",
          "model_name": "ProgressStyleModel",
          "state": {
            "_model_module": "@jupyter-widgets/controls",
            "_model_module_version": "1.5.0",
            "_model_name": "ProgressStyleModel",
            "_view_count": null,
            "_view_module": "@jupyter-widgets/base",
            "_view_module_version": "1.2.0",
            "_view_name": "StyleView",
            "bar_color": null,
            "description_width": ""
          }
        },
        "6b950899c4a849128cb1b7f1bc332b7f": {
          "model_module": "@jupyter-widgets/controls",
          "model_module_version": "1.5.0",
          "model_name": "HTMLModel",
          "state": {
            "_dom_classes": [],
            "_model_module": "@jupyter-widgets/controls",
            "_model_module_version": "1.5.0",
            "_model_name": "HTMLModel",
            "_view_count": null,
            "_view_module": "@jupyter-widgets/controls",
            "_view_module_version": "1.5.0",
            "_view_name": "HTMLView",
            "description": "",
            "description_tooltip": null,
            "layout": "IPY_MODEL_ad792e6e1e01443480090f9b026212a2",
            "placeholder": "​",
            "style": "IPY_MODEL_e4db8f106c494ad6baf64440429679ef",
            "value": "SPLADE Index Retrieve: 100%"
          }
        },
        "6f8ac74b8c42419e9c5762de9d58479b": {
          "model_module": "@jupyter-widgets/controls",
          "model_module_version": "1.5.0",
          "model_name": "DescriptionStyleModel",
          "state": {
            "_model_module": "@jupyter-widgets/controls",
            "_model_module_version": "1.5.0",
            "_model_name": "DescriptionStyleModel",
            "_view_count": null,
            "_view_module": "@jupyter-widgets/base",
            "_view_module_version": "1.2.0",
            "_view_name": "StyleView",
            "description_width": ""
          }
        },
        "7fa30f057fa34d268591a8da8e0af2d3": {
          "model_module": "@jupyter-widgets/base",
          "model_module_version": "1.2.0",
          "model_name": "LayoutModel",
          "state": {
            "_model_module": "@jupyter-widgets/base",
            "_model_module_version": "1.2.0",
            "_model_name": "LayoutModel",
            "_view_count": null,
            "_view_module": "@jupyter-widgets/base",
            "_view_module_version": "1.2.0",
            "_view_name": "LayoutView",
            "align_content": null,
            "align_items": null,
            "align_self": null,
            "border": null,
            "bottom": null,
            "display": null,
            "flex": null,
            "flex_flow": null,
            "grid_area": null,
            "grid_auto_columns": null,
            "grid_auto_flow": null,
            "grid_auto_rows": null,
            "grid_column": null,
            "grid_gap": null,
            "grid_row": null,
            "grid_template_areas": null,
            "grid_template_columns": null,
            "grid_template_rows": null,
            "height": null,
            "justify_content": null,
            "justify_items": null,
            "left": null,
            "margin": null,
            "max_height": null,
            "max_width": null,
            "min_height": null,
            "min_width": null,
            "object_fit": null,
            "object_position": null,
            "order": null,
            "overflow": null,
            "overflow_x": null,
            "overflow_y": null,
            "padding": null,
            "right": null,
            "top": null,
            "visibility": null,
            "width": null
          }
        },
        "ad792e6e1e01443480090f9b026212a2": {
          "model_module": "@jupyter-widgets/base",
          "model_module_version": "1.2.0",
          "model_name": "LayoutModel",
          "state": {
            "_model_module": "@jupyter-widgets/base",
            "_model_module_version": "1.2.0",
            "_model_name": "LayoutModel",
            "_view_count": null,
            "_view_module": "@jupyter-widgets/base",
            "_view_module_version": "1.2.0",
            "_view_name": "LayoutView",
            "align_content": null,
            "align_items": null,
            "align_self": null,
            "border": null,
            "bottom": null,
            "display": null,
            "flex": null,
            "flex_flow": null,
            "grid_area": null,
            "grid_auto_columns": null,
            "grid_auto_flow": null,
            "grid_auto_rows": null,
            "grid_column": null,
            "grid_gap": null,
            "grid_row": null,
            "grid_template_areas": null,
            "grid_template_columns": null,
            "grid_template_rows": null,
            "height": null,
            "justify_content": null,
            "justify_items": null,
            "left": null,
            "margin": null,
            "max_height": null,
            "max_width": null,
            "min_height": null,
            "min_width": null,
            "object_fit": null,
            "object_position": null,
            "order": null,
            "overflow": null,
            "overflow_x": null,
            "overflow_y": null,
            "padding": null,
            "right": null,
            "top": null,
            "visibility": null,
            "width": null
          }
        },
        "b2425e03cef549e6b0ab039d618ecf2f": {
          "model_module": "@jupyter-widgets/controls",
          "model_module_version": "1.5.0",
          "model_name": "FloatProgressModel",
          "state": {
            "_dom_classes": [],
            "_model_module": "@jupyter-widgets/controls",
            "_model_module_version": "1.5.0",
            "_model_name": "FloatProgressModel",
            "_view_count": null,
            "_view_module": "@jupyter-widgets/controls",
            "_view_module_version": "1.5.0",
            "_view_name": "ProgressView",
            "bar_style": "",
            "description": "",
            "description_tooltip": null,
            "layout": "IPY_MODEL_e0136c33113a4576911e701d17935a4e",
            "max": 5000,
            "min": 0,
            "orientation": "horizontal",
            "style": "IPY_MODEL_49795d120f084d59b45451c839f16f47",
            "value": 5000
          }
        },
        "d144782056e146cabafc3c14c77218f3": {
          "model_module": "@jupyter-widgets/controls",
          "model_module_version": "1.5.0",
          "model_name": "HBoxModel",
          "state": {
            "_dom_classes": [],
            "_model_module": "@jupyter-widgets/controls",
            "_model_module_version": "1.5.0",
            "_model_name": "HBoxModel",
            "_view_count": null,
            "_view_module": "@jupyter-widgets/controls",
            "_view_module_version": "1.5.0",
            "_view_name": "HBoxView",
            "box_style": "",
            "children": [
              "IPY_MODEL_6b950899c4a849128cb1b7f1bc332b7f",
              "IPY_MODEL_b2425e03cef549e6b0ab039d618ecf2f",
              "IPY_MODEL_f01987681f5b4e4ab5c10f0699d7fd02"
            ],
            "layout": "IPY_MODEL_27c78d0e4783474c8634f83e05e58310"
          }
        },
        "e0136c33113a4576911e701d17935a4e": {
          "model_module": "@jupyter-widgets/base",
          "model_module_version": "1.2.0",
          "model_name": "LayoutModel",
          "state": {
            "_model_module": "@jupyter-widgets/base",
            "_model_module_version": "1.2.0",
            "_model_name": "LayoutModel",
            "_view_count": null,
            "_view_module": "@jupyter-widgets/base",
            "_view_module_version": "1.2.0",
            "_view_name": "LayoutView",
            "align_content": null,
            "align_items": null,
            "align_self": null,
            "border": null,
            "bottom": null,
            "display": null,
            "flex": null,
            "flex_flow": null,
            "grid_area": null,
            "grid_auto_columns": null,
            "grid_auto_flow": null,
            "grid_auto_rows": null,
            "grid_column": null,
            "grid_gap": null,
            "grid_row": null,
            "grid_template_areas": null,
            "grid_template_columns": null,
            "grid_template_rows": null,
            "height": null,
            "justify_content": null,
            "justify_items": null,
            "left": null,
            "margin": null,
            "max_height": null,
            "max_width": null,
            "min_height": null,
            "min_width": null,
            "object_fit": null,
            "object_position": null,
            "order": null,
            "overflow": null,
            "overflow_x": null,
            "overflow_y": null,
            "padding": null,
            "right": null,
            "top": null,
            "visibility": null,
            "width": null
          }
        },
        "e4db8f106c494ad6baf64440429679ef": {
          "model_module": "@jupyter-widgets/controls",
          "model_module_version": "1.5.0",
          "model_name": "DescriptionStyleModel",
          "state": {
            "_model_module": "@jupyter-widgets/controls",
            "_model_module_version": "1.5.0",
            "_model_name": "DescriptionStyleModel",
            "_view_count": null,
            "_view_module": "@jupyter-widgets/base",
            "_view_module_version": "1.2.0",
            "_view_name": "StyleView",
            "description_width": ""
          }
        },
        "f01987681f5b4e4ab5c10f0699d7fd02": {
          "model_module": "@jupyter-widgets/controls",
          "model_module_version": "1.5.0",
          "model_name": "HTMLModel",
          "state": {
            "_dom_classes": [],
            "_model_module": "@jupyter-widgets/controls",
            "_model_module_version": "1.5.0",
            "_model_name": "HTMLModel",
            "_view_count": null,
            "_view_module": "@jupyter-widgets/controls",
            "_view_module_version": "1.5.0",
            "_view_name": "HTMLView",
            "description": "",
            "description_tooltip": null,
            "layout": "IPY_MODEL_7fa30f057fa34d268591a8da8e0af2d3",
            "placeholder": "​",
            "style": "IPY_MODEL_6f8ac74b8c42419e9c5762de9d58479b",
            "value": " 4988/5000 [00:28&lt;00:00, 184.15it/s]"
          }
        }
      }
    }
  },
  "nbformat": 4,
  "nbformat_minor": 0
}
