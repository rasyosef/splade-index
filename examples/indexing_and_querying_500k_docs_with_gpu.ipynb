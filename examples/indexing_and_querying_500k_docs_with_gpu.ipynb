{
  "cells": [
    {
      "cell_type": "code",
      "execution_count": 1,
      "metadata": {
        "id": "K9HY-ixO0lWp"
      },
      "outputs": [],
      "source": [
        "! pip install -Uq datasets splade-index numba \"jax[cpu]\""
      ]
    },
    {
      "cell_type": "code",
      "execution_count": 2,
      "metadata": {
        "id": "o1BGy7vD1DlF"
      },
      "outputs": [],
      "source": [
        "import os\n",
        "\n",
        "os.environ[\"JAX_PLATFORMS\"]=\"cpu\""
      ]
    },
    {
      "cell_type": "markdown",
      "metadata": {
        "id": "wfHBcNar1cTR"
      },
      "source": [
        "### **Load Dataset**"
      ]
    },
    {
      "cell_type": "code",
      "execution_count": null,
      "metadata": {
        "id": "8D6tdfqK1e64"
      },
      "outputs": [],
      "source": [
        "from datasets import load_dataset\n",
        "\n",
        "msmarco = load_dataset(\"rasyosef/msmarco\")\n",
        "msmarco"
      ]
    },
    {
      "cell_type": "code",
      "execution_count": 4,
      "metadata": {
        "colab": {
          "base_uri": "https://localhost:8080/"
        },
        "id": "6mTBOFXn1i2G",
        "outputId": "40eda78c-b947-424d-db5f-2f66a51d5961"
      },
      "outputs": [
        {
          "output_type": "execute_result",
          "data": {
            "text/plain": [
              "Dataset({\n",
              "    features: ['query_id', 'query', 'positives', 'negatives'],\n",
              "    num_rows: 55577\n",
              "})"
            ]
          },
          "metadata": {},
          "execution_count": 4
        }
      ],
      "source": [
        "test_dataset = msmarco[\"dev\"].shuffle(seed=42)#.select(range(10_000))\n",
        "test_dataset"
      ]
    },
    {
      "cell_type": "code",
      "execution_count": 5,
      "metadata": {
        "colab": {
          "base_uri": "https://localhost:8080/"
        },
        "id": "o_PXTqh41mpz",
        "outputId": "76b0cbcf-b58e-4bd1-ecc7-fc6772090d74"
      },
      "outputs": [
        {
          "output_type": "execute_result",
          "data": {
            "text/plain": [
              "(542280, 55577, 55577)"
            ]
          },
          "metadata": {},
          "execution_count": 5
        }
      ],
      "source": [
        "import hashlib\n",
        "from datasets import concatenate_datasets\n",
        "\n",
        "# Using md5 hash function to deduplicate documents\n",
        "def md5(text):\n",
        "  res = hashlib.md5(text.encode())\n",
        "  return res.hexdigest()\n",
        "\n",
        "dev_dataset = test_dataset\n",
        "\n",
        "dev_queries = dict(zip(dev_dataset[\"query_id\"], dev_dataset[\"query\"]))\n",
        "\n",
        "dev_corpus = {}\n",
        "for row in dev_dataset:\n",
        "  for passage in row[\"positives\"]:\n",
        "    dev_corpus[md5(passage)] = passage\n",
        "\n",
        "  for passage in row[\"negatives\"]:\n",
        "    dev_corpus[md5(passage)] = passage\n",
        "\n",
        "dev_relevant_docs = dict(\n",
        "    zip(\n",
        "      dev_dataset[\"query_id\"],\n",
        "      [[md5(pos) for pos in positives] for positives in dev_dataset[\"positives\"]]\n",
        "    )\n",
        "  )\n",
        "\n",
        "len(dev_corpus), len(dev_queries), len(dev_relevant_docs)"
      ]
    },
    {
      "cell_type": "markdown",
      "metadata": {
        "id": "Qjn5c441AM72"
      },
      "source": [
        "### **Index the Documents**"
      ]
    },
    {
      "cell_type": "code",
      "execution_count": null,
      "metadata": {
        "id": "4gQ4OaZZ1q53"
      },
      "outputs": [],
      "source": [
        "from sentence_transformers import SparseEncoder\n",
        "\n",
        "# Download a SPLADE model from the 🤗 Hub\n",
        "splade = SparseEncoder(\"rasyosef/splade-mini\", device=\"cuda\")\n",
        "\n",
        "splade"
      ]
    },
    {
      "cell_type": "code",
      "execution_count": 8,
      "metadata": {
        "colab": {
          "base_uri": "https://localhost:8080/"
        },
        "id": "bsESKM17A2It",
        "outputId": "36468b32-f31b-4e20-bd52-eda15fa7451f"
      },
      "outputs": [
        {
          "output_type": "execute_result",
          "data": {
            "text/plain": [
              "542280"
            ]
          },
          "metadata": {},
          "execution_count": 8
        }
      ],
      "source": [
        "# The documents\n",
        "corpus = list(dev_corpus.values())\n",
        "len(corpus)"
      ]
    },
    {
      "cell_type": "code",
      "execution_count": null,
      "metadata": {
        "id": "oBe5ivP6AW2D"
      },
      "outputs": [],
      "source": [
        "from splade_index import SPLADE\n",
        "\n",
        "# Create the SPLADE retriever and index the corpus\n",
        "retriever = SPLADE()\n",
        "retriever.index(model=splade, documents=corpus)"
      ]
    },
    {
      "cell_type": "markdown",
      "source": [
        "### **Query the index**"
      ],
      "metadata": {
        "id": "HyA1kFewzoOQ"
      }
    },
    {
      "cell_type": "code",
      "execution_count": 10,
      "metadata": {
        "colab": {
          "base_uri": "https://localhost:8080/"
        },
        "id": "pRRGlCBDQQl7",
        "outputId": "38ba257e-7426-4819-c27f-9a91db492f58"
      },
      "outputs": [
        {
          "output_type": "execute_result",
          "data": {
            "text/plain": [
              "(5000,\n",
              " ['is natural gas renewable',\n",
              "  'how many hours of sunlight do succulents need?',\n",
              "  'what is an acute / obtuse triangle'])"
            ]
          },
          "metadata": {},
          "execution_count": 10
        }
      ],
      "source": [
        "queries = list(dev_queries.values())[:5000]\n",
        "len(queries), queries[:3]"
      ]
    },
    {
      "cell_type": "code",
      "execution_count": null,
      "metadata": {
        "id": "DIpZMc-MJKPa"
      },
      "outputs": [],
      "source": [
        "# Get top-k results as a tuple of (doc_ids, documents, scores). All three are arrays of shape (n_queries, k).\n",
        "from time import time\n",
        "\n",
        "start_time = time()\n",
        "\n",
        "results = retriever.retrieve(queries, k=5)\n",
        "doc_ids, result_docs, scores = results.doc_ids, results.documents, results.scores\n",
        "\n",
        "time_taken = time() - start_time\n",
        "print(f\"Average retrieval time per query: {time_taken*1000/len(queries) :.2f} ms\")"
      ]
    },
    {
      "cell_type": "code",
      "source": [
        "print(\"Query:\", queries[0])\n",
        "\n",
        "print(\"Retrieved Documents:\")\n",
        "for i in range(doc_ids.shape[1]):\n",
        "    doc_id, doc, score = doc_ids[0, i], result_docs[0, i], scores[0, i]\n",
        "    print(f\"Rank {i+1} (score: {score:.2f}) (doc_idx: {doc_id}):\", doc)"
      ],
      "metadata": {
        "colab": {
          "base_uri": "https://localhost:8080/"
        },
        "id": "W-iZMPXMp8ij",
        "outputId": "dfbddda5-b535-4dc3-8f4c-e032a8360366"
      },
      "execution_count": 12,
      "outputs": [
        {
          "output_type": "stream",
          "name": "stdout",
          "text": [
            "Query: is natural gas renewable\n",
            "Retrieved Documents:\n",
            "Rank 1 (score: 27.00) (doc_idx: 7): Renewable natural gas can be produced economically, and distributed via the existing gas grid, making it an attractive means of supplying existing premises with renewable heat and renewable gas energy, while requiring no extra capital outlay of the customer.\n",
            "Rank 2 (score: 25.99) (doc_idx: 0): Renewable natural gas. Renewable natural gas, also known as sustainable natural gas, is a biogas which has been upgraded to a quality similar to fossil natural gas. A biogas is a gas methane obtained from biomass. By upgrading the quality to that of natural gas, it becomes possible to distribute the gas to customers via the existing gas grid, within existing appliances. Renewable natural gas is a subset of synthetic natural gas or substitute natural gas (SNG).\n",
            "Rank 3 (score: 25.02) (doc_idx: 6): While conventional natural gas is not considered a renewable fuel, biomethane or renewable natural gas can be produced from organic material found in dairies, landfills, and wastewater treatment facilities, leading to GHG emission reductions of up to 85% compared to conventional natural gas.\n",
            "Rank 4 (score: 24.88) (doc_idx: 498441): Confidence votes 1.1K. Natural gas, methane, the fossil fuel, is NOT a renewable resource. Natural gas, methane, produced from pig manure and rotting vegetation and collected from landfills IS a renewable resource. It cannot be renewed from its original source as fossil fuel. Much of the natural gas we are burning now formed in deposits buried during the Devonian period, 300 million years ago.\n",
            "Rank 5 (score: 24.87) (doc_idx: 265199): Natural resources are things that occur naturally, and that are useful to us. They include fuels such as oil and natural gas, and materials such as iron ore, and timber. Renewable resources are those that are replaced in nature at a rate close to their rate of use e.g. plants, forests and animals. Care is needed to make sure resources are used sustainably and not over- harvested.\n"
          ]
        }
      ]
    },
    {
      "cell_type": "markdown",
      "source": [
        "### **Summary:**\n",
        "- `splade-tiny` takes 9 minutes to index 500k docs and 5.94ms/query on a T4 16GB GPU\n",
        "- `splade-mini` takes 12 minutes to index 500k docs and 6.11ms/query on a T4 16GB GPU"
      ],
      "metadata": {
        "id": "Plm0jsv002nh"
      }
    },
    {
      "cell_type": "code",
      "source": [],
      "metadata": {
        "id": "ql564Le71AYF"
      },
      "execution_count": null,
      "outputs": []
    }
  ],
  "metadata": {
    "colab": {
      "provenance": [],
      "gpuType": "T4"
    },
    "kernelspec": {
      "display_name": "Python 3",
      "name": "python3"
    },
    "language_info": {
      "name": "python"
    },
    "accelerator": "GPU"
  },
  "nbformat": 4,
  "nbformat_minor": 0
}