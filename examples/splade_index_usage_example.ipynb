{
  "nbformat": 4,
  "nbformat_minor": 0,
  "metadata": {
    "colab": {
      "provenance": []
    },
    "kernelspec": {
      "name": "python3",
      "display_name": "Python 3"
    },
    "language_info": {
      "name": "python"
    }
  },
  "cells": [
    {
      "cell_type": "markdown",
      "source": [
        "### **Install SPLADE Index**"
      ],
      "metadata": {
        "id": "crT-iYGMRXOe"
      }
    },
    {
      "cell_type": "code",
      "source": [
        "# ! pip install -Uq datasets huggingface_hub numba \"jax[cpu]\""
      ],
      "metadata": {
        "id": "KZmezmeCSz7f"
      },
      "execution_count": 1,
      "outputs": []
    },
    {
      "cell_type": "code",
      "source": [
        "! git clone https://github.com/rasyosef/splade-index.git\n",
        "! pip install -q ./splade-index"
      ],
      "metadata": {
        "id": "AkjJq0qtRQJj"
      },
      "execution_count": null,
      "outputs": []
    },
    {
      "cell_type": "markdown",
      "source": [
        "### **Load Dataset**"
      ],
      "metadata": {
        "id": "sq71ZvpxSO1g"
      }
    },
    {
      "cell_type": "code",
      "source": [
        "from datasets import load_dataset\n",
        "\n",
        "dataset = load_dataset(\n",
        "    \"philschmid/finanical-rag-embedding-dataset\",\n",
        "    split=\"train\"\n",
        "  ).shuffle(seed=42).select(range(1000))\n",
        "\n",
        "dataset"
      ],
      "metadata": {
        "id": "CcowIJM1RVbm"
      },
      "execution_count": null,
      "outputs": []
    },
    {
      "cell_type": "code",
      "source": [
        "documents = list(dataset[\"context\"])\n",
        "len(documents), documents[:3]"
      ],
      "metadata": {
        "colab": {
          "base_uri": "https://localhost:8080/"
        },
        "id": "YZ89iNP4Swkk",
        "outputId": "2c13ba0d-8e88-468e-ada7-9290dc79f202"
      },
      "execution_count": 4,
      "outputs": [
        {
          "output_type": "execute_result",
          "data": {
            "text/plain": [
              "(1000,\n",
              " [\"The company's debt obligations as of December 31, 2023, totaled $2,299,887 thousand.\",\n",
              "  \"A corporate entity referred to as a management services organization (MSO) provides various management services and keeps the physician entity 'friendly' through a stock transfer restriction agreement and/or other relationships. The fees under the management services arrangement must comply with state fee splitting laws, which in some states may prohibit percentage-based fees.\",\n",
              "  'We manufacture and distribute our products through facilities in the United States (U.S.), including Puerto Rico, and in Europe and Asia.'])"
            ]
          },
          "metadata": {},
          "execution_count": 4
        }
      ]
    },
    {
      "cell_type": "markdown",
      "source": [
        "### **Index the Documents**"
      ],
      "metadata": {
        "id": "h6z4kHcerBdh"
      }
    },
    {
      "cell_type": "code",
      "source": [
        "from sentence_transformers import SparseEncoder\n",
        "\n",
        "# Download a SPLADE model from the 🤗 Hub\n",
        "model = SparseEncoder(\"rasyosef/splade-tiny\")"
      ],
      "metadata": {
        "id": "v_OEeMLaTXLo"
      },
      "execution_count": null,
      "outputs": []
    },
    {
      "cell_type": "code",
      "source": [
        "from splade_index import SPLADE\n",
        "\n",
        "# Create the SPLADE retriever and index the corpus\n",
        "retriever = SPLADE()\n",
        "retriever.index(model=model, documents=documents)"
      ],
      "metadata": {
        "id": "uO1DgC-ZrWYb"
      },
      "execution_count": null,
      "outputs": []
    },
    {
      "cell_type": "markdown",
      "source": [
        "### **Query the Index**"
      ],
      "metadata": {
        "id": "deKyyenLrJ9X"
      }
    },
    {
      "cell_type": "code",
      "source": [
        "# Query the corpus\n",
        "queries = list(dataset[\"question\"])\n",
        "len(queries), queries[:3]"
      ],
      "metadata": {
        "colab": {
          "base_uri": "https://localhost:8080/"
        },
        "id": "dqytPLfOWR0P",
        "outputId": "fff70df4-249e-40ba-c664-d91ebf71d847"
      },
      "execution_count": 7,
      "outputs": [
        {
          "output_type": "execute_result",
          "data": {
            "text/plain": [
              "(1000,\n",
              " [\"How much were the company's debt obligations as of December 31, 2023?\",\n",
              "  'What are the specific structures and legal considerations for a management services organization (MSO) in relation to its relationship with physician owners?',\n",
              "  'Where does Eli Lilly and Company manufacture and distribute its products?'])"
            ]
          },
          "metadata": {},
          "execution_count": 7
        }
      ]
    },
    {
      "cell_type": "code",
      "source": [
        "# Get top-k results as a tuple of (doc ids, scores). Both are arrays of shape (n_queries, k).\n",
        "results = retriever.retrieve(queries, k=5)\n",
        "doc_ids, result_docs, scores = results.doc_ids, results.documents, results.scores"
      ],
      "metadata": {
        "id": "fARoK_5QTkmh"
      },
      "execution_count": null,
      "outputs": []
    },
    {
      "cell_type": "code",
      "source": [
        "print(\"Query:\", queries[0])\n",
        "\n",
        "print(\"Retrieved Documents:\")\n",
        "for i in range(doc_ids.shape[1]):\n",
        "    doc_id, doc, score = doc_ids[0, i], result_docs[0, i], scores[0, i]\n",
        "    print(f\"Rank {i+1} (score: {score:.2f}) (doc_idx: {doc_id}):\", doc)"
      ],
      "metadata": {
        "colab": {
          "base_uri": "https://localhost:8080/"
        },
        "id": "n8uTwtA8qczj",
        "outputId": "ecbe0256-3fa9-4ced-fae5-869b407aed0c"
      },
      "execution_count": 9,
      "outputs": [
        {
          "output_type": "stream",
          "name": "stdout",
          "text": [
            "Query: How much were the company's debt obligations as of December 31, 2023?\n",
            "Retrieved Documents:\n",
            "Rank 1 (score: 29.81) (doc_idx: 0): The company's debt obligations as of December 31, 2023, totaled $2,299,887 thousand.\n",
            "Rank 2 (score: 26.19) (doc_idx: 422): As of December 30, 2023, the Company's net deferred tax assets were $639,953, and as of December 31, 2022, they were $311,106.\n",
            "Rank 3 (score: 25.50) (doc_idx: 798): As of December 31, 2023, the total invested assets at Humana Inc. were reported to be $21,590 million.\n",
            "Rank 4 (score: 25.34) (doc_idx: 842): The company's finance lease obligations were totaled at $156,854 thousand as of December 31, 2023.\n",
            "Rank 5 (score: 25.31) (doc_idx: 218): During the year ended December 30, 2023, the Company completed business acquisitions for a total consideration of $134 million that resulted in the recognition of $49 million of identifiable net assets and $85 million of goodwill.\n"
          ]
        }
      ]
    }
  ]
}