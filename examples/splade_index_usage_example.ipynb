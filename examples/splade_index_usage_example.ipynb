{
  "nbformat": 4,
  "nbformat_minor": 0,
  "metadata": {
    "colab": {
      "provenance": []
    },
    "kernelspec": {
      "name": "python3",
      "display_name": "Python 3"
    },
    "language_info": {
      "name": "python"
    },
    "widgets": {
      "application/vnd.jupyter.widget-state+json": {
        "5a49c5d8e82e40c084b06c448091a01d": {
          "model_module": "@jupyter-widgets/controls",
          "model_name": "HBoxModel",
          "model_module_version": "1.5.0",
          "state": {
            "_dom_classes": [],
            "_model_module": "@jupyter-widgets/controls",
            "_model_module_version": "1.5.0",
            "_model_name": "HBoxModel",
            "_view_count": null,
            "_view_module": "@jupyter-widgets/controls",
            "_view_module_version": "1.5.0",
            "_view_name": "HBoxView",
            "box_style": "",
            "children": [
              "IPY_MODEL_160f78c8152d4387adbdd0132c132aa6",
              "IPY_MODEL_84d18477a70b4242bb979da92fb098b1",
              "IPY_MODEL_ec96073de45c478ab154b08f66584192"
            ],
            "layout": "IPY_MODEL_538301fd8d3347529a47af55f9a146bf"
          }
        },
        "160f78c8152d4387adbdd0132c132aa6": {
          "model_module": "@jupyter-widgets/controls",
          "model_name": "HTMLModel",
          "model_module_version": "1.5.0",
          "state": {
            "_dom_classes": [],
            "_model_module": "@jupyter-widgets/controls",
            "_model_module_version": "1.5.0",
            "_model_name": "HTMLModel",
            "_view_count": null,
            "_view_module": "@jupyter-widgets/controls",
            "_view_module_version": "1.5.0",
            "_view_name": "HTMLView",
            "description": "",
            "description_tooltip": null,
            "layout": "IPY_MODEL_a725ba90c5c44a3dadde3124cfe6ffc6",
            "placeholder": "​",
            "style": "IPY_MODEL_ce96876e94be4a53b0ef77b71871fd97",
            "value": "SPLADE Index Retrieve:  94%"
          }
        },
        "84d18477a70b4242bb979da92fb098b1": {
          "model_module": "@jupyter-widgets/controls",
          "model_name": "FloatProgressModel",
          "model_module_version": "1.5.0",
          "state": {
            "_dom_classes": [],
            "_model_module": "@jupyter-widgets/controls",
            "_model_module_version": "1.5.0",
            "_model_name": "FloatProgressModel",
            "_view_count": null,
            "_view_module": "@jupyter-widgets/controls",
            "_view_module_version": "1.5.0",
            "_view_name": "ProgressView",
            "bar_style": "",
            "description": "",
            "description_tooltip": null,
            "layout": "IPY_MODEL_235364c81f4c46a0ad7eb84ebd3302c4",
            "max": 1000,
            "min": 0,
            "orientation": "horizontal",
            "style": "IPY_MODEL_bd3f2752b98d4f44b8c6ac61357aebea",
            "value": 1000
          }
        },
        "ec96073de45c478ab154b08f66584192": {
          "model_module": "@jupyter-widgets/controls",
          "model_name": "HTMLModel",
          "model_module_version": "1.5.0",
          "state": {
            "_dom_classes": [],
            "_model_module": "@jupyter-widgets/controls",
            "_model_module_version": "1.5.0",
            "_model_name": "HTMLModel",
            "_view_count": null,
            "_view_module": "@jupyter-widgets/controls",
            "_view_module_version": "1.5.0",
            "_view_name": "HTMLView",
            "description": "",
            "description_tooltip": null,
            "layout": "IPY_MODEL_ab5145558a5a436cb06c516835b65449",
            "placeholder": "​",
            "style": "IPY_MODEL_a0d48e7b300847edad343dea5995397f",
            "value": " 938/1000 [00:00&lt;00:00, 1711.79it/s]"
          }
        },
        "538301fd8d3347529a47af55f9a146bf": {
          "model_module": "@jupyter-widgets/base",
          "model_name": "LayoutModel",
          "model_module_version": "1.2.0",
          "state": {
            "_model_module": "@jupyter-widgets/base",
            "_model_module_version": "1.2.0",
            "_model_name": "LayoutModel",
            "_view_count": null,
            "_view_module": "@jupyter-widgets/base",
            "_view_module_version": "1.2.0",
            "_view_name": "LayoutView",
            "align_content": null,
            "align_items": null,
            "align_self": null,
            "border": null,
            "bottom": null,
            "display": null,
            "flex": null,
            "flex_flow": null,
            "grid_area": null,
            "grid_auto_columns": null,
            "grid_auto_flow": null,
            "grid_auto_rows": null,
            "grid_column": null,
            "grid_gap": null,
            "grid_row": null,
            "grid_template_areas": null,
            "grid_template_columns": null,
            "grid_template_rows": null,
            "height": null,
            "justify_content": null,
            "justify_items": null,
            "left": null,
            "margin": null,
            "max_height": null,
            "max_width": null,
            "min_height": null,
            "min_width": null,
            "object_fit": null,
            "object_position": null,
            "order": null,
            "overflow": null,
            "overflow_x": null,
            "overflow_y": null,
            "padding": null,
            "right": null,
            "top": null,
            "visibility": "hidden",
            "width": null
          }
        },
        "a725ba90c5c44a3dadde3124cfe6ffc6": {
          "model_module": "@jupyter-widgets/base",
          "model_name": "LayoutModel",
          "model_module_version": "1.2.0",
          "state": {
            "_model_module": "@jupyter-widgets/base",
            "_model_module_version": "1.2.0",
            "_model_name": "LayoutModel",
            "_view_count": null,
            "_view_module": "@jupyter-widgets/base",
            "_view_module_version": "1.2.0",
            "_view_name": "LayoutView",
            "align_content": null,
            "align_items": null,
            "align_self": null,
            "border": null,
            "bottom": null,
            "display": null,
            "flex": null,
            "flex_flow": null,
            "grid_area": null,
            "grid_auto_columns": null,
            "grid_auto_flow": null,
            "grid_auto_rows": null,
            "grid_column": null,
            "grid_gap": null,
            "grid_row": null,
            "grid_template_areas": null,
            "grid_template_columns": null,
            "grid_template_rows": null,
            "height": null,
            "justify_content": null,
            "justify_items": null,
            "left": null,
            "margin": null,
            "max_height": null,
            "max_width": null,
            "min_height": null,
            "min_width": null,
            "object_fit": null,
            "object_position": null,
            "order": null,
            "overflow": null,
            "overflow_x": null,
            "overflow_y": null,
            "padding": null,
            "right": null,
            "top": null,
            "visibility": null,
            "width": null
          }
        },
        "ce96876e94be4a53b0ef77b71871fd97": {
          "model_module": "@jupyter-widgets/controls",
          "model_name": "DescriptionStyleModel",
          "model_module_version": "1.5.0",
          "state": {
            "_model_module": "@jupyter-widgets/controls",
            "_model_module_version": "1.5.0",
            "_model_name": "DescriptionStyleModel",
            "_view_count": null,
            "_view_module": "@jupyter-widgets/base",
            "_view_module_version": "1.2.0",
            "_view_name": "StyleView",
            "description_width": ""
          }
        },
        "235364c81f4c46a0ad7eb84ebd3302c4": {
          "model_module": "@jupyter-widgets/base",
          "model_name": "LayoutModel",
          "model_module_version": "1.2.0",
          "state": {
            "_model_module": "@jupyter-widgets/base",
            "_model_module_version": "1.2.0",
            "_model_name": "LayoutModel",
            "_view_count": null,
            "_view_module": "@jupyter-widgets/base",
            "_view_module_version": "1.2.0",
            "_view_name": "LayoutView",
            "align_content": null,
            "align_items": null,
            "align_self": null,
            "border": null,
            "bottom": null,
            "display": null,
            "flex": null,
            "flex_flow": null,
            "grid_area": null,
            "grid_auto_columns": null,
            "grid_auto_flow": null,
            "grid_auto_rows": null,
            "grid_column": null,
            "grid_gap": null,
            "grid_row": null,
            "grid_template_areas": null,
            "grid_template_columns": null,
            "grid_template_rows": null,
            "height": null,
            "justify_content": null,
            "justify_items": null,
            "left": null,
            "margin": null,
            "max_height": null,
            "max_width": null,
            "min_height": null,
            "min_width": null,
            "object_fit": null,
            "object_position": null,
            "order": null,
            "overflow": null,
            "overflow_x": null,
            "overflow_y": null,
            "padding": null,
            "right": null,
            "top": null,
            "visibility": null,
            "width": null
          }
        },
        "bd3f2752b98d4f44b8c6ac61357aebea": {
          "model_module": "@jupyter-widgets/controls",
          "model_name": "ProgressStyleModel",
          "model_module_version": "1.5.0",
          "state": {
            "_model_module": "@jupyter-widgets/controls",
            "_model_module_version": "1.5.0",
            "_model_name": "ProgressStyleModel",
            "_view_count": null,
            "_view_module": "@jupyter-widgets/base",
            "_view_module_version": "1.2.0",
            "_view_name": "StyleView",
            "bar_color": null,
            "description_width": ""
          }
        },
        "ab5145558a5a436cb06c516835b65449": {
          "model_module": "@jupyter-widgets/base",
          "model_name": "LayoutModel",
          "model_module_version": "1.2.0",
          "state": {
            "_model_module": "@jupyter-widgets/base",
            "_model_module_version": "1.2.0",
            "_model_name": "LayoutModel",
            "_view_count": null,
            "_view_module": "@jupyter-widgets/base",
            "_view_module_version": "1.2.0",
            "_view_name": "LayoutView",
            "align_content": null,
            "align_items": null,
            "align_self": null,
            "border": null,
            "bottom": null,
            "display": null,
            "flex": null,
            "flex_flow": null,
            "grid_area": null,
            "grid_auto_columns": null,
            "grid_auto_flow": null,
            "grid_auto_rows": null,
            "grid_column": null,
            "grid_gap": null,
            "grid_row": null,
            "grid_template_areas": null,
            "grid_template_columns": null,
            "grid_template_rows": null,
            "height": null,
            "justify_content": null,
            "justify_items": null,
            "left": null,
            "margin": null,
            "max_height": null,
            "max_width": null,
            "min_height": null,
            "min_width": null,
            "object_fit": null,
            "object_position": null,
            "order": null,
            "overflow": null,
            "overflow_x": null,
            "overflow_y": null,
            "padding": null,
            "right": null,
            "top": null,
            "visibility": null,
            "width": null
          }
        },
        "a0d48e7b300847edad343dea5995397f": {
          "model_module": "@jupyter-widgets/controls",
          "model_name": "DescriptionStyleModel",
          "model_module_version": "1.5.0",
          "state": {
            "_model_module": "@jupyter-widgets/controls",
            "_model_module_version": "1.5.0",
            "_model_name": "DescriptionStyleModel",
            "_view_count": null,
            "_view_module": "@jupyter-widgets/base",
            "_view_module_version": "1.2.0",
            "_view_name": "StyleView",
            "description_width": ""
          }
        }
      }
    }
  },
  "cells": [
    {
      "cell_type": "markdown",
      "source": [
        "### **Install SPLADE Index**"
      ],
      "metadata": {
        "id": "crT-iYGMRXOe"
      }
    },
    {
      "cell_type": "code",
      "source": [
        "# ! pip install -Uq datasets huggingface_hub numba \"jax[cpu]\""
      ],
      "metadata": {
        "id": "KZmezmeCSz7f"
      },
      "execution_count": 1,
      "outputs": []
    },
    {
      "cell_type": "code",
      "source": [
        "! git clone https://github.com/rasyosef/splade-index.git\n",
        "! pip install -q ./splade-index"
      ],
      "metadata": {
        "id": "AkjJq0qtRQJj"
      },
      "execution_count": null,
      "outputs": []
    },
    {
      "cell_type": "markdown",
      "source": [
        "### **Load Dataset**"
      ],
      "metadata": {
        "id": "sq71ZvpxSO1g"
      }
    },
    {
      "cell_type": "code",
      "source": [
        "from datasets import load_dataset\n",
        "\n",
        "dataset = load_dataset(\n",
        "    \"philschmid/finanical-rag-embedding-dataset\",\n",
        "    split=\"train\"\n",
        "  ).shuffle(seed=42).select(range(1000))\n",
        "\n",
        "dataset"
      ],
      "metadata": {
        "id": "CcowIJM1RVbm"
      },
      "execution_count": null,
      "outputs": []
    },
    {
      "cell_type": "code",
      "source": [
        "documents = list(dataset[\"context\"])\n",
        "len(documents), documents[:3]"
      ],
      "metadata": {
        "colab": {
          "base_uri": "https://localhost:8080/"
        },
        "id": "YZ89iNP4Swkk",
        "outputId": "2c13ba0d-8e88-468e-ada7-9290dc79f202"
      },
      "execution_count": 4,
      "outputs": [
        {
          "output_type": "execute_result",
          "data": {
            "text/plain": [
              "(1000,\n",
              " [\"The company's debt obligations as of December 31, 2023, totaled $2,299,887 thousand.\",\n",
              "  \"A corporate entity referred to as a management services organization (MSO) provides various management services and keeps the physician entity 'friendly' through a stock transfer restriction agreement and/or other relationships. The fees under the management services arrangement must comply with state fee splitting laws, which in some states may prohibit percentage-based fees.\",\n",
              "  'We manufacture and distribute our products through facilities in the United States (U.S.), including Puerto Rico, and in Europe and Asia.'])"
            ]
          },
          "metadata": {},
          "execution_count": 4
        }
      ]
    },
    {
      "cell_type": "markdown",
      "source": [
        "### **Index the Documents**"
      ],
      "metadata": {
        "id": "h6z4kHcerBdh"
      }
    },
    {
      "cell_type": "code",
      "source": [
        "from sentence_transformers import SparseEncoder\n",
        "\n",
        "# Download a SPLADE model from the 🤗 Hub\n",
        "model = SparseEncoder(\"rasyosef/splade-tiny\")"
      ],
      "metadata": {
        "id": "v_OEeMLaTXLo"
      },
      "execution_count": null,
      "outputs": []
    },
    {
      "cell_type": "code",
      "source": [
        "from splade_index import SPLADE\n",
        "\n",
        "# Create the SPLADE retriever and index the corpus\n",
        "retriever = SPLADE()\n",
        "retriever.index(model=model, documents=documents)"
      ],
      "metadata": {
        "colab": {
          "base_uri": "https://localhost:8080/"
        },
        "id": "uO1DgC-ZrWYb",
        "outputId": "b2e3886f-9cec-412d-bbf6-1dc21703a6ec"
      },
      "execution_count": 6,
      "outputs": [
        {
          "output_type": "stream",
          "name": "stderr",
          "text": [
            "Batches: 100%|██████████| 32/32 [00:43<00:00,  1.35s/it]\n"
          ]
        }
      ]
    },
    {
      "cell_type": "markdown",
      "source": [
        "### **Query the Index**"
      ],
      "metadata": {
        "id": "deKyyenLrJ9X"
      }
    },
    {
      "cell_type": "code",
      "source": [
        "# Query the corpus\n",
        "queries = list(dataset[\"question\"])\n",
        "len(queries), queries[:3]"
      ],
      "metadata": {
        "colab": {
          "base_uri": "https://localhost:8080/"
        },
        "id": "dqytPLfOWR0P",
        "outputId": "fff70df4-249e-40ba-c664-d91ebf71d847"
      },
      "execution_count": 7,
      "outputs": [
        {
          "output_type": "execute_result",
          "data": {
            "text/plain": [
              "(1000,\n",
              " [\"How much were the company's debt obligations as of December 31, 2023?\",\n",
              "  'What are the specific structures and legal considerations for a management services organization (MSO) in relation to its relationship with physician owners?',\n",
              "  'Where does Eli Lilly and Company manufacture and distribute its products?'])"
            ]
          },
          "metadata": {},
          "execution_count": 7
        }
      ]
    },
    {
      "cell_type": "code",
      "source": [
        "# Get top-k results as a tuple of (doc ids, scores). Both are arrays of shape (n_queries, k).\n",
        "results = retriever.retrieve(queries, k=5)\n",
        "doc_ids, result_docs, scores = results.doc_ids, results.documents, results.scores"
      ],
      "metadata": {
        "colab": {
          "base_uri": "https://localhost:8080/",
          "height": 34,
          "referenced_widgets": [
            "5a49c5d8e82e40c084b06c448091a01d",
            "160f78c8152d4387adbdd0132c132aa6",
            "84d18477a70b4242bb979da92fb098b1",
            "ec96073de45c478ab154b08f66584192",
            "538301fd8d3347529a47af55f9a146bf",
            "a725ba90c5c44a3dadde3124cfe6ffc6",
            "ce96876e94be4a53b0ef77b71871fd97",
            "235364c81f4c46a0ad7eb84ebd3302c4",
            "bd3f2752b98d4f44b8c6ac61357aebea",
            "ab5145558a5a436cb06c516835b65449",
            "a0d48e7b300847edad343dea5995397f"
          ]
        },
        "id": "fARoK_5QTkmh",
        "outputId": "9d185aa4-e4f4-4ad6-db8a-080553ef7c8d"
      },
      "execution_count": 8,
      "outputs": [
        {
          "output_type": "stream",
          "name": "stderr",
          "text": [
            "Batches: 100%|██████████| 32/32 [00:15<00:00,  2.06it/s]\n"
          ]
        },
        {
          "output_type": "display_data",
          "data": {
            "text/plain": [
              "SPLADE Index Retrieve:   0%|          | 0/1000 [00:00<?, ?it/s]"
            ],
            "application/vnd.jupyter.widget-view+json": {
              "version_major": 2,
              "version_minor": 0,
              "model_id": "5a49c5d8e82e40c084b06c448091a01d"
            }
          },
          "metadata": {}
        }
      ]
    },
    {
      "cell_type": "code",
      "source": [
        "print(\"Query:\", queries[0])\n",
        "\n",
        "print(\"Retrieved Documents:\")\n",
        "for i in range(doc_ids.shape[1]):\n",
        "    doc_id, doc, score = doc_ids[0, i], result_docs[0, i], scores[0, i]\n",
        "    print(f\"Rank {i+1} (score: {score:.2f}) (doc_idx: {doc_id}):\", doc)"
      ],
      "metadata": {
        "colab": {
          "base_uri": "https://localhost:8080/"
        },
        "id": "n8uTwtA8qczj",
        "outputId": "ecbe0256-3fa9-4ced-fae5-869b407aed0c"
      },
      "execution_count": 9,
      "outputs": [
        {
          "output_type": "stream",
          "name": "stdout",
          "text": [
            "Query: How much were the company's debt obligations as of December 31, 2023?\n",
            "Retrieved Documents:\n",
            "Rank 1 (score: 29.81) (doc_idx: 0): The company's debt obligations as of December 31, 2023, totaled $2,299,887 thousand.\n",
            "Rank 2 (score: 26.19) (doc_idx: 422): As of December 30, 2023, the Company's net deferred tax assets were $639,953, and as of December 31, 2022, they were $311,106.\n",
            "Rank 3 (score: 25.50) (doc_idx: 798): As of December 31, 2023, the total invested assets at Humana Inc. were reported to be $21,590 million.\n",
            "Rank 4 (score: 25.34) (doc_idx: 842): The company's finance lease obligations were totaled at $156,854 thousand as of December 31, 2023.\n",
            "Rank 5 (score: 25.31) (doc_idx: 218): During the year ended December 30, 2023, the Company completed business acquisitions for a total consideration of $134 million that resulted in the recognition of $49 million of identifiable net assets and $85 million of goodwill.\n"
          ]
        }
      ]
    }
  ]
}